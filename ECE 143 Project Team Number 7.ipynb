{
 "cells": [
  {
   "cell_type": "markdown",
   "metadata": {
    "id": "F3N2W4QEJrC5"
   },
   "source": [
    "# NY Druc Crime Analysis\n",
    "#### Proposal\n",
    "As you are aware, drug-related crimes have been a persistent issue in urban areas,\n",
    "including New York City. Understanding the dynamics and patterns of these crimes can have\n",
    "significant implications for law enforcement and policymakers. Research in this field can\n",
    "provide insights into the underlying factors of drug-related crimes in NYC.\n",
    "\n",
    "Our project proposal aims to explore the trends and patterns in drug crimes in NYC using\n",
    "available data that includes the precincts where these crimes occurred, the specific time of when\n",
    "they occured, when the crime was reported, descriptions and levels of offense, whether the\n",
    "crime was successfully completed, latitude-longitude coordinates, and more.\n",
    "\n",
    "Also, we will investigate the correlation between the crimes and other factors, like\n",
    "geography, population, race, and compare the difference between districts. We aim to identify\n",
    "geographical hotspots and coldspots of drug-related crimes within NYC, using provided data that\n",
    "includes lat-lon coordinates. We will examine temporal patterns to understand when drug-related\n",
    "crimes are more likely to occur during the day, which can shed light on potential contributing\n",
    "factors. We intend to categorize drug-related offenses by type and severity, offering a deeper\n",
    "understanding of the nature of these crimes in the city.\n",
    "\n",
    "Our project will involve data cleaning and preprocessing to ensure data quality and\n",
    "accuracy. Multiple columns/features in the dataset have NaNs or ambiguous values (precinct #),\n",
    "and we will deal with this appropriately. We will use various data analysis techniques, including\n",
    "spatial analysis, time series analysis, and data visualization, to achieve the project’s objectives.\n",
    "\n",
    "#### Data Sources\n",
    "* Drug Crime | NYC Open Data (cityofnewyork.us)\n",
    "* BYTES of the BIG APPLE - DCP (nyc.gov)\n",
    "* 2020 Census -DCP (nyc.gov)"
   ]
  },
  {
   "cell_type": "code",
   "execution_count": 1,
   "metadata": {
    "id": "KwO4FtN6seQJ"
   },
   "outputs": [],
   "source": [
    "# Imports\n",
    "import preprocess_utils as pu\n",
    "import data_utils as du\n",
    "import plotly.express as px"
   ]
  },
  {
   "cell_type": "code",
   "execution_count": 2,
   "metadata": {
    "id": "EjT9HqNjB8fa"
   },
   "outputs": [],
   "source": [
    "raw_datasets = pu.import_data()\n",
    "datasets = pu.preprocess_datasets(raw_datasets)  # Indices: 'Drug_Crime', 'All', 'Hispanic', 'Asian', 'Black', 'White'"
   ]
  },
  {
   "cell_type": "code",
   "execution_count": 3,
   "metadata": {},
   "outputs": [
    {
     "data": {
      "text/html": [
       "<div>\n",
       "<style scoped>\n",
       "    .dataframe tbody tr th:only-of-type {\n",
       "        vertical-align: middle;\n",
       "    }\n",
       "\n",
       "    .dataframe tbody tr th {\n",
       "        vertical-align: top;\n",
       "    }\n",
       "\n",
       "    .dataframe thead th {\n",
       "        text-align: right;\n",
       "    }\n",
       "</style>\n",
       "<table border=\"1\" class=\"dataframe\">\n",
       "  <thead>\n",
       "    <tr style=\"text-align: right;\">\n",
       "      <th></th>\n",
       "      <th>Year</th>\n",
       "      <th>Time</th>\n",
       "      <th>Precinct</th>\n",
       "      <th>Reported on:</th>\n",
       "      <th>Description</th>\n",
       "      <th>NYC Penal Code</th>\n",
       "      <th>Crime</th>\n",
       "      <th>Completed?</th>\n",
       "      <th>Crime Category</th>\n",
       "      <th>BORO_NM</th>\n",
       "      <th>...</th>\n",
       "      <th>PREM_TYP_DESC</th>\n",
       "      <th>JURIS_DESC</th>\n",
       "      <th>PARKS_NM</th>\n",
       "      <th>HADEVELOPT</th>\n",
       "      <th>X_COORD_CD</th>\n",
       "      <th>Y_COORD_CD</th>\n",
       "      <th>Lat_Lon</th>\n",
       "      <th>Time of Day</th>\n",
       "      <th>Phone</th>\n",
       "      <th>Address</th>\n",
       "    </tr>\n",
       "  </thead>\n",
       "  <tbody>\n",
       "    <tr>\n",
       "      <th>0</th>\n",
       "      <td>2011</td>\n",
       "      <td>02:00:00</td>\n",
       "      <td>41.0</td>\n",
       "      <td>2011</td>\n",
       "      <td>DANGEROUS DRUGS</td>\n",
       "      <td>503</td>\n",
       "      <td>POSS. OF CONTROLLED SUBSTANCE W/ INTENT TO SELL</td>\n",
       "      <td>True</td>\n",
       "      <td>FELONY</td>\n",
       "      <td>BRONX</td>\n",
       "      <td>...</td>\n",
       "      <td>STREET</td>\n",
       "      <td>N.Y. POLICE DEPT</td>\n",
       "      <td>Not at a park</td>\n",
       "      <td>Not at a HA dev</td>\n",
       "      <td>1013037.0</td>\n",
       "      <td>236657.0</td>\n",
       "      <td>(40.8162058439227, -73.8960011932583)</td>\n",
       "      <td>night</td>\n",
       "      <td>718-542-4771</td>\n",
       "      <td>1035 Longwood Avenue</td>\n",
       "    </tr>\n",
       "    <tr>\n",
       "      <th>1</th>\n",
       "      <td>2000</td>\n",
       "      <td>19:10:00</td>\n",
       "      <td>75.0</td>\n",
       "      <td>2006</td>\n",
       "      <td>DANGEROUS DRUGS</td>\n",
       "      <td>511</td>\n",
       "      <td>7 DEG POSS. OF CONTROLLED</td>\n",
       "      <td>True</td>\n",
       "      <td>MISDEMEANOR</td>\n",
       "      <td>BROOKLYN</td>\n",
       "      <td>...</td>\n",
       "      <td>STREET</td>\n",
       "      <td>N.Y. POLICE DEPT</td>\n",
       "      <td>Not at a park</td>\n",
       "      <td>Not at a HA dev</td>\n",
       "      <td>1017036.0</td>\n",
       "      <td>183890.0</td>\n",
       "      <td>(40.6713598203364, -73.8818110231735)</td>\n",
       "      <td>night</td>\n",
       "      <td>718-827-3511</td>\n",
       "      <td>1000 Sutter Avenue</td>\n",
       "    </tr>\n",
       "    <tr>\n",
       "      <th>2</th>\n",
       "      <td>2005</td>\n",
       "      <td>21:25:00</td>\n",
       "      <td>113.0</td>\n",
       "      <td>2006</td>\n",
       "      <td>DANGEROUS DRUGS</td>\n",
       "      <td>503</td>\n",
       "      <td>POSS. OF CONTROLLED SUBSTANCE W/ INTENT TO SELL</td>\n",
       "      <td>True</td>\n",
       "      <td>FELONY</td>\n",
       "      <td>QUEENS</td>\n",
       "      <td>...</td>\n",
       "      <td>RESIDENCE-HOUSE</td>\n",
       "      <td>N.Y. POLICE DEPT</td>\n",
       "      <td>Not at a park</td>\n",
       "      <td>Not at a HA dev</td>\n",
       "      <td>1046315.0</td>\n",
       "      <td>187088.0</td>\n",
       "      <td>(40.6799807384666, -73.7762339071953)</td>\n",
       "      <td>night</td>\n",
       "      <td>718-712-7733</td>\n",
       "      <td>167-02 Baisley Boulevard</td>\n",
       "    </tr>\n",
       "    <tr>\n",
       "      <th>3</th>\n",
       "      <td>2005</td>\n",
       "      <td>21:50:00</td>\n",
       "      <td>42.0</td>\n",
       "      <td>2006</td>\n",
       "      <td>DANGEROUS DRUGS</td>\n",
       "      <td>503</td>\n",
       "      <td>POSS. OF CONTROLLED SUBSTANCE W/ INTENT TO SELL</td>\n",
       "      <td>True</td>\n",
       "      <td>FELONY</td>\n",
       "      <td>BRONX</td>\n",
       "      <td>...</td>\n",
       "      <td>STREET</td>\n",
       "      <td>N.Y. POLICE DEPT</td>\n",
       "      <td>Not at a park</td>\n",
       "      <td>Not at a HA dev</td>\n",
       "      <td>1008690.0</td>\n",
       "      <td>238862.0</td>\n",
       "      <td>(40.8222710411331, -73.911697780277)</td>\n",
       "      <td>night</td>\n",
       "      <td>718-402-3887</td>\n",
       "      <td>830 Washington Avenue</td>\n",
       "    </tr>\n",
       "    <tr>\n",
       "      <th>4</th>\n",
       "      <td>2005</td>\n",
       "      <td>19:18:00</td>\n",
       "      <td>48.0</td>\n",
       "      <td>2007</td>\n",
       "      <td>DANGEROUS DRUGS</td>\n",
       "      <td>511</td>\n",
       "      <td>7 DEG POSS. OF CONTROLLED</td>\n",
       "      <td>True</td>\n",
       "      <td>MISDEMEANOR</td>\n",
       "      <td>BRONX</td>\n",
       "      <td>...</td>\n",
       "      <td>RESIDENCE - APT. HOUSE</td>\n",
       "      <td>N.Y. POLICE DEPT</td>\n",
       "      <td>Not at a park</td>\n",
       "      <td>Not at a HA dev</td>\n",
       "      <td>1011751.0</td>\n",
       "      <td>246839.0</td>\n",
       "      <td>(40.8441566000203, -73.9006054489734)</td>\n",
       "      <td>night</td>\n",
       "      <td>718-299-3900</td>\n",
       "      <td>450 Cross Bronx Expressway</td>\n",
       "    </tr>\n",
       "    <tr>\n",
       "      <th>...</th>\n",
       "      <td>...</td>\n",
       "      <td>...</td>\n",
       "      <td>...</td>\n",
       "      <td>...</td>\n",
       "      <td>...</td>\n",
       "      <td>...</td>\n",
       "      <td>...</td>\n",
       "      <td>...</td>\n",
       "      <td>...</td>\n",
       "      <td>...</td>\n",
       "      <td>...</td>\n",
       "      <td>...</td>\n",
       "      <td>...</td>\n",
       "      <td>...</td>\n",
       "      <td>...</td>\n",
       "      <td>...</td>\n",
       "      <td>...</td>\n",
       "      <td>...</td>\n",
       "      <td>...</td>\n",
       "      <td>...</td>\n",
       "      <td>...</td>\n",
       "    </tr>\n",
       "    <tr>\n",
       "      <th>443485</th>\n",
       "      <td>2022</td>\n",
       "      <td>22:59:00</td>\n",
       "      <td>48.0</td>\n",
       "      <td>2022</td>\n",
       "      <td>DANGEROUS DRUGS</td>\n",
       "      <td>503</td>\n",
       "      <td>POSS. OF CONTROLLED SUBSTANCE W/ INTENT TO SELL</td>\n",
       "      <td>True</td>\n",
       "      <td>FELONY</td>\n",
       "      <td>BRONX</td>\n",
       "      <td>...</td>\n",
       "      <td>STREET</td>\n",
       "      <td>N.Y. POLICE DEPT</td>\n",
       "      <td>Not at a park</td>\n",
       "      <td>Not at a HA dev</td>\n",
       "      <td>1014655.0</td>\n",
       "      <td>248327.0</td>\n",
       "      <td>(40.848224, -73.890098)</td>\n",
       "      <td>night</td>\n",
       "      <td>718-299-3900</td>\n",
       "      <td>450 Cross Bronx Expressway</td>\n",
       "    </tr>\n",
       "    <tr>\n",
       "      <th>443486</th>\n",
       "      <td>2022</td>\n",
       "      <td>11:53:00</td>\n",
       "      <td>28.0</td>\n",
       "      <td>2022</td>\n",
       "      <td>DANGEROUS DRUGS</td>\n",
       "      <td>501</td>\n",
       "      <td>3, 4, 5 DEG POSS. OF CONTROLLED SUBSTANCE</td>\n",
       "      <td>True</td>\n",
       "      <td>FELONY</td>\n",
       "      <td>MANHATTAN</td>\n",
       "      <td>...</td>\n",
       "      <td>STREET</td>\n",
       "      <td>N.Y. POLICE DEPT</td>\n",
       "      <td>Not at a park</td>\n",
       "      <td>Not at a HA dev</td>\n",
       "      <td>997602.0</td>\n",
       "      <td>230430.0</td>\n",
       "      <td>(40.799146, -73.951772)</td>\n",
       "      <td>morning</td>\n",
       "      <td>212-678-1611</td>\n",
       "      <td>2271-89 8th Avenue</td>\n",
       "    </tr>\n",
       "    <tr>\n",
       "      <th>443487</th>\n",
       "      <td>2022</td>\n",
       "      <td>21:05:00</td>\n",
       "      <td>52.0</td>\n",
       "      <td>2022</td>\n",
       "      <td>DANGEROUS DRUGS</td>\n",
       "      <td>503</td>\n",
       "      <td>POSS. OF CONTROLLED SUBSTANCE W/ INTENT TO SELL</td>\n",
       "      <td>True</td>\n",
       "      <td>FELONY</td>\n",
       "      <td>BRONX</td>\n",
       "      <td>...</td>\n",
       "      <td>STREET</td>\n",
       "      <td>N.Y. POLICE DEPT</td>\n",
       "      <td>Not at a park</td>\n",
       "      <td>Not at a HA dev</td>\n",
       "      <td>1016545.0</td>\n",
       "      <td>255351.0</td>\n",
       "      <td>(40.867497, -73.883234)</td>\n",
       "      <td>night</td>\n",
       "      <td>718-220-5811</td>\n",
       "      <td>3016 Webster Avenue</td>\n",
       "    </tr>\n",
       "    <tr>\n",
       "      <th>443488</th>\n",
       "      <td>2022</td>\n",
       "      <td>02:55:00</td>\n",
       "      <td>71.0</td>\n",
       "      <td>2022</td>\n",
       "      <td>DANGEROUS DRUGS</td>\n",
       "      <td>510</td>\n",
       "      <td>POSS. OF CONTROLLED SUBSTANCE W/ INTENT TO SELL</td>\n",
       "      <td>True</td>\n",
       "      <td>FELONY</td>\n",
       "      <td>BROOKLYN</td>\n",
       "      <td>...</td>\n",
       "      <td>TRANSIT - NYC SUBWAY</td>\n",
       "      <td>N.Y. TRANSIT POLICE</td>\n",
       "      <td>Not at a park</td>\n",
       "      <td>Not at a HA dev</td>\n",
       "      <td>995908.0</td>\n",
       "      <td>183618.0</td>\n",
       "      <td>(40.67065802, -73.95797447)</td>\n",
       "      <td>night</td>\n",
       "      <td>718-735-0511</td>\n",
       "      <td>421 Empire Boulevard</td>\n",
       "    </tr>\n",
       "    <tr>\n",
       "      <th>443489</th>\n",
       "      <td>2022</td>\n",
       "      <td>23:30:00</td>\n",
       "      <td>45.0</td>\n",
       "      <td>2022</td>\n",
       "      <td>DANGEROUS DRUGS</td>\n",
       "      <td>511</td>\n",
       "      <td>7 DEG POSS. OF CONTROLLED</td>\n",
       "      <td>True</td>\n",
       "      <td>MISDEMEANOR</td>\n",
       "      <td>BRONX</td>\n",
       "      <td>...</td>\n",
       "      <td>DEPARTMENT STORE</td>\n",
       "      <td>N.Y. POLICE DEPT</td>\n",
       "      <td>Not at a park</td>\n",
       "      <td>Not at a HA dev</td>\n",
       "      <td>1032091.0</td>\n",
       "      <td>241976.0</td>\n",
       "      <td>(40.8307223277672, -73.8271260588639)</td>\n",
       "      <td>night</td>\n",
       "      <td>718-822-5411</td>\n",
       "      <td>2877 Barkley Avenue</td>\n",
       "    </tr>\n",
       "  </tbody>\n",
       "</table>\n",
       "<p>443490 rows × 21 columns</p>\n",
       "</div>"
      ],
      "text/plain": [
       "        Year      Time  Precinct Reported on:      Description  \\\n",
       "0       2011  02:00:00      41.0         2011  DANGEROUS DRUGS   \n",
       "1       2000  19:10:00      75.0         2006  DANGEROUS DRUGS   \n",
       "2       2005  21:25:00     113.0         2006  DANGEROUS DRUGS   \n",
       "3       2005  21:50:00      42.0         2006  DANGEROUS DRUGS   \n",
       "4       2005  19:18:00      48.0         2007  DANGEROUS DRUGS   \n",
       "...      ...       ...       ...          ...              ...   \n",
       "443485  2022  22:59:00      48.0         2022  DANGEROUS DRUGS   \n",
       "443486  2022  11:53:00      28.0         2022  DANGEROUS DRUGS   \n",
       "443487  2022  21:05:00      52.0         2022  DANGEROUS DRUGS   \n",
       "443488  2022  02:55:00      71.0         2022  DANGEROUS DRUGS   \n",
       "443489  2022  23:30:00      45.0         2022  DANGEROUS DRUGS   \n",
       "\n",
       "        NYC Penal Code                                            Crime  \\\n",
       "0                  503  POSS. OF CONTROLLED SUBSTANCE W/ INTENT TO SELL   \n",
       "1                  511                        7 DEG POSS. OF CONTROLLED   \n",
       "2                  503  POSS. OF CONTROLLED SUBSTANCE W/ INTENT TO SELL   \n",
       "3                  503  POSS. OF CONTROLLED SUBSTANCE W/ INTENT TO SELL   \n",
       "4                  511                        7 DEG POSS. OF CONTROLLED   \n",
       "...                ...                                              ...   \n",
       "443485             503  POSS. OF CONTROLLED SUBSTANCE W/ INTENT TO SELL   \n",
       "443486             501        3, 4, 5 DEG POSS. OF CONTROLLED SUBSTANCE   \n",
       "443487             503  POSS. OF CONTROLLED SUBSTANCE W/ INTENT TO SELL   \n",
       "443488             510  POSS. OF CONTROLLED SUBSTANCE W/ INTENT TO SELL   \n",
       "443489             511                        7 DEG POSS. OF CONTROLLED   \n",
       "\n",
       "        Completed? Crime Category    BORO_NM  ...           PREM_TYP_DESC  \\\n",
       "0             True         FELONY      BRONX  ...                  STREET   \n",
       "1             True    MISDEMEANOR   BROOKLYN  ...                  STREET   \n",
       "2             True         FELONY     QUEENS  ...         RESIDENCE-HOUSE   \n",
       "3             True         FELONY      BRONX  ...                  STREET   \n",
       "4             True    MISDEMEANOR      BRONX  ...  RESIDENCE - APT. HOUSE   \n",
       "...            ...            ...        ...  ...                     ...   \n",
       "443485        True         FELONY      BRONX  ...                  STREET   \n",
       "443486        True         FELONY  MANHATTAN  ...                  STREET   \n",
       "443487        True         FELONY      BRONX  ...                  STREET   \n",
       "443488        True         FELONY   BROOKLYN  ...    TRANSIT - NYC SUBWAY   \n",
       "443489        True    MISDEMEANOR      BRONX  ...        DEPARTMENT STORE   \n",
       "\n",
       "                 JURIS_DESC       PARKS_NM       HADEVELOPT X_COORD_CD  \\\n",
       "0          N.Y. POLICE DEPT  Not at a park  Not at a HA dev  1013037.0   \n",
       "1          N.Y. POLICE DEPT  Not at a park  Not at a HA dev  1017036.0   \n",
       "2          N.Y. POLICE DEPT  Not at a park  Not at a HA dev  1046315.0   \n",
       "3          N.Y. POLICE DEPT  Not at a park  Not at a HA dev  1008690.0   \n",
       "4          N.Y. POLICE DEPT  Not at a park  Not at a HA dev  1011751.0   \n",
       "...                     ...            ...              ...        ...   \n",
       "443485     N.Y. POLICE DEPT  Not at a park  Not at a HA dev  1014655.0   \n",
       "443486     N.Y. POLICE DEPT  Not at a park  Not at a HA dev   997602.0   \n",
       "443487     N.Y. POLICE DEPT  Not at a park  Not at a HA dev  1016545.0   \n",
       "443488  N.Y. TRANSIT POLICE  Not at a park  Not at a HA dev   995908.0   \n",
       "443489     N.Y. POLICE DEPT  Not at a park  Not at a HA dev  1032091.0   \n",
       "\n",
       "        Y_COORD_CD                                Lat_Lon Time of Day  \\\n",
       "0         236657.0  (40.8162058439227, -73.8960011932583)       night   \n",
       "1         183890.0  (40.6713598203364, -73.8818110231735)       night   \n",
       "2         187088.0  (40.6799807384666, -73.7762339071953)       night   \n",
       "3         238862.0   (40.8222710411331, -73.911697780277)       night   \n",
       "4         246839.0  (40.8441566000203, -73.9006054489734)       night   \n",
       "...            ...                                    ...         ...   \n",
       "443485    248327.0                (40.848224, -73.890098)       night   \n",
       "443486    230430.0                (40.799146, -73.951772)     morning   \n",
       "443487    255351.0                (40.867497, -73.883234)       night   \n",
       "443488    183618.0            (40.67065802, -73.95797447)       night   \n",
       "443489    241976.0  (40.8307223277672, -73.8271260588639)       night   \n",
       "\n",
       "               Phone                     Address  \n",
       "0       718-542-4771        1035 Longwood Avenue  \n",
       "1       718-827-3511          1000 Sutter Avenue  \n",
       "2       718-712-7733    167-02 Baisley Boulevard  \n",
       "3       718-402-3887       830 Washington Avenue  \n",
       "4       718-299-3900  450 Cross Bronx Expressway  \n",
       "...              ...                         ...  \n",
       "443485  718-299-3900  450 Cross Bronx Expressway  \n",
       "443486  212-678-1611          2271-89 8th Avenue  \n",
       "443487  718-220-5811         3016 Webster Avenue  \n",
       "443488  718-735-0511        421 Empire Boulevard  \n",
       "443489  718-822-5411         2877 Barkley Avenue  \n",
       "\n",
       "[443490 rows x 21 columns]"
      ]
     },
     "execution_count": 3,
     "metadata": {},
     "output_type": "execute_result"
    }
   ],
   "source": [
    "datasets['Drug_Crime']"
   ]
  },
  {
   "cell_type": "code",
   "execution_count": 4,
   "metadata": {
    "scrolled": false
   },
   "outputs": [
    {
     "data": {
      "text/html": [
       "<div>\n",
       "<style scoped>\n",
       "    .dataframe tbody tr th:only-of-type {\n",
       "        vertical-align: middle;\n",
       "    }\n",
       "\n",
       "    .dataframe tbody tr th {\n",
       "        vertical-align: top;\n",
       "    }\n",
       "\n",
       "    .dataframe thead th {\n",
       "        text-align: right;\n",
       "    }\n",
       "</style>\n",
       "<table border=\"1\" class=\"dataframe\">\n",
       "  <thead>\n",
       "    <tr style=\"text-align: right;\">\n",
       "      <th></th>\n",
       "      <th>GeoType</th>\n",
       "      <th>Borough</th>\n",
       "      <th>Name</th>\n",
       "      <th>Hispanic Pop Change</th>\n",
       "      <th>Hispanic Natural Change</th>\n",
       "      <th>Hispanic Net Migration</th>\n",
       "      <th>Hispanic Pop_10</th>\n",
       "      <th>Hispanic Pop_20</th>\n",
       "      <th>All Pop Change</th>\n",
       "      <th>All Natural Change</th>\n",
       "      <th>...</th>\n",
       "      <th>Asian Pop Change</th>\n",
       "      <th>Asian Natural Change</th>\n",
       "      <th>Asian Net Migration</th>\n",
       "      <th>Asian Pop_10</th>\n",
       "      <th>Asian Pop_20</th>\n",
       "      <th>White Pop Change</th>\n",
       "      <th>White Natural Change</th>\n",
       "      <th>White Net Migration</th>\n",
       "      <th>White Pop_10</th>\n",
       "      <th>White Pop_20</th>\n",
       "    </tr>\n",
       "    <tr>\n",
       "      <th>GeoID</th>\n",
       "      <th></th>\n",
       "      <th></th>\n",
       "      <th></th>\n",
       "      <th></th>\n",
       "      <th></th>\n",
       "      <th></th>\n",
       "      <th></th>\n",
       "      <th></th>\n",
       "      <th></th>\n",
       "      <th></th>\n",
       "      <th></th>\n",
       "      <th></th>\n",
       "      <th></th>\n",
       "      <th></th>\n",
       "      <th></th>\n",
       "      <th></th>\n",
       "      <th></th>\n",
       "      <th></th>\n",
       "      <th></th>\n",
       "      <th></th>\n",
       "      <th></th>\n",
       "    </tr>\n",
       "  </thead>\n",
       "  <tbody>\n",
       "    <tr>\n",
       "      <th>0</th>\n",
       "      <td>NYC</td>\n",
       "      <td>New York City</td>\n",
       "      <td>NYC (adjusted for citywide total population in...</td>\n",
       "      <td>154,274</td>\n",
       "      <td>242,213</td>\n",
       "      <td>-87,939</td>\n",
       "      <td>2336076</td>\n",
       "      <td>2490350</td>\n",
       "      <td>561,566</td>\n",
       "      <td>612,638</td>\n",
       "      <td>...</td>\n",
       "      <td>345,383</td>\n",
       "      <td>148,946</td>\n",
       "      <td>196,437</td>\n",
       "      <td>1028119</td>\n",
       "      <td>1373502</td>\n",
       "      <td>-3,048</td>\n",
       "      <td>126,719</td>\n",
       "      <td>-129,767</td>\n",
       "      <td>2722904</td>\n",
       "      <td>2719856</td>\n",
       "    </tr>\n",
       "    <tr>\n",
       "      <th>1</th>\n",
       "      <td>Boro</td>\n",
       "      <td>Manhattan</td>\n",
       "      <td>Manhattan</td>\n",
       "      <td>-937</td>\n",
       "      <td>24,328</td>\n",
       "      <td>-25,265</td>\n",
       "      <td>403577</td>\n",
       "      <td>402640</td>\n",
       "      <td>108,378</td>\n",
       "      <td>81,949</td>\n",
       "      <td>...</td>\n",
       "      <td>42,000</td>\n",
       "      <td>19,511</td>\n",
       "      <td>22,489</td>\n",
       "      <td>177624</td>\n",
       "      <td>219624</td>\n",
       "      <td>31,801</td>\n",
       "      <td>38,086</td>\n",
       "      <td>-6,285</td>\n",
       "      <td>761493</td>\n",
       "      <td>793294</td>\n",
       "    </tr>\n",
       "    <tr>\n",
       "      <th>2</th>\n",
       "      <td>Boro</td>\n",
       "      <td>Bronx</td>\n",
       "      <td>Bronx</td>\n",
       "      <td>65,050</td>\n",
       "      <td>84,961</td>\n",
       "      <td>-19,911</td>\n",
       "      <td>741413</td>\n",
       "      <td>806463</td>\n",
       "      <td>87,546</td>\n",
       "      <td>114,402</td>\n",
       "      <td>...</td>\n",
       "      <td>20,431</td>\n",
       "      <td>8,012</td>\n",
       "      <td>12,419</td>\n",
       "      <td>47335</td>\n",
       "      <td>67766</td>\n",
       "      <td>-20,413</td>\n",
       "      <td>-8,271</td>\n",
       "      <td>-12,142</td>\n",
       "      <td>151209</td>\n",
       "      <td>130796</td>\n",
       "    </tr>\n",
       "    <tr>\n",
       "      <th>3</th>\n",
       "      <td>Boro</td>\n",
       "      <td>Brooklyn</td>\n",
       "      <td>Brooklyn</td>\n",
       "      <td>20,141</td>\n",
       "      <td>50,358</td>\n",
       "      <td>-30,217</td>\n",
       "      <td>496285</td>\n",
       "      <td>516426</td>\n",
       "      <td>231,374</td>\n",
       "      <td>246,479</td>\n",
       "      <td>...</td>\n",
       "      <td>110,647</td>\n",
       "      <td>49,274</td>\n",
       "      <td>61,373</td>\n",
       "      <td>260129</td>\n",
       "      <td>370776</td>\n",
       "      <td>75,121</td>\n",
       "      <td>103,482</td>\n",
       "      <td>-28,361</td>\n",
       "      <td>893306</td>\n",
       "      <td>968427</td>\n",
       "    </tr>\n",
       "    <tr>\n",
       "      <th>4</th>\n",
       "      <td>Boro</td>\n",
       "      <td>Queens</td>\n",
       "      <td>Queens</td>\n",
       "      <td>54,111</td>\n",
       "      <td>72,532</td>\n",
       "      <td>-18,421</td>\n",
       "      <td>613750</td>\n",
       "      <td>667861</td>\n",
       "      <td>174,742</td>\n",
       "      <td>152,976</td>\n",
       "      <td>...</td>\n",
       "      <td>148,249</td>\n",
       "      <td>68,698</td>\n",
       "      <td>79,551</td>\n",
       "      <td>508334</td>\n",
       "      <td>656583</td>\n",
       "      <td>-67,369</td>\n",
       "      <td>-5,932</td>\n",
       "      <td>-61,437</td>\n",
       "      <td>616727</td>\n",
       "      <td>549358</td>\n",
       "    </tr>\n",
       "    <tr>\n",
       "      <th>...</th>\n",
       "      <td>...</td>\n",
       "      <td>...</td>\n",
       "      <td>...</td>\n",
       "      <td>...</td>\n",
       "      <td>...</td>\n",
       "      <td>...</td>\n",
       "      <td>...</td>\n",
       "      <td>...</td>\n",
       "      <td>...</td>\n",
       "      <td>...</td>\n",
       "      <td>...</td>\n",
       "      <td>...</td>\n",
       "      <td>...</td>\n",
       "      <td>...</td>\n",
       "      <td>...</td>\n",
       "      <td>...</td>\n",
       "      <td>...</td>\n",
       "      <td>...</td>\n",
       "      <td>...</td>\n",
       "      <td>...</td>\n",
       "      <td>...</td>\n",
       "    </tr>\n",
       "    <tr>\n",
       "      <th>SI0391</th>\n",
       "      <td>NTA2020</td>\n",
       "      <td>Staten Island</td>\n",
       "      <td>Freshkills Park (South)</td>\n",
       "      <td>-9</td>\n",
       "      <td>2</td>\n",
       "      <td>-11</td>\n",
       "      <td>44</td>\n",
       "      <td>35</td>\n",
       "      <td>-2</td>\n",
       "      <td>9</td>\n",
       "      <td>...</td>\n",
       "      <td>4</td>\n",
       "      <td>0</td>\n",
       "      <td>4</td>\n",
       "      <td>15</td>\n",
       "      <td>19</td>\n",
       "      <td>-7</td>\n",
       "      <td>6</td>\n",
       "      <td>-13</td>\n",
       "      <td>38</td>\n",
       "      <td>31</td>\n",
       "    </tr>\n",
       "    <tr>\n",
       "      <th>SI9561</th>\n",
       "      <td>NTA2020</td>\n",
       "      <td>Staten Island</td>\n",
       "      <td>Fort Wadsworth</td>\n",
       "      <td>-3</td>\n",
       "      <td>29</td>\n",
       "      <td>-32</td>\n",
       "      <td>157</td>\n",
       "      <td>154</td>\n",
       "      <td>-236</td>\n",
       "      <td>120</td>\n",
       "      <td>...</td>\n",
       "      <td>9</td>\n",
       "      <td>5</td>\n",
       "      <td>4</td>\n",
       "      <td>6</td>\n",
       "      <td>15</td>\n",
       "      <td>-225</td>\n",
       "      <td>72</td>\n",
       "      <td>-297</td>\n",
       "      <td>463</td>\n",
       "      <td>238</td>\n",
       "    </tr>\n",
       "    <tr>\n",
       "      <th>SI9591</th>\n",
       "      <td>NTA2020</td>\n",
       "      <td>Staten Island</td>\n",
       "      <td>Hoffman &amp; Swinburne Islands</td>\n",
       "      <td>0</td>\n",
       "      <td>0</td>\n",
       "      <td>0</td>\n",
       "      <td>0</td>\n",
       "      <td>0</td>\n",
       "      <td>0</td>\n",
       "      <td>0</td>\n",
       "      <td>...</td>\n",
       "      <td>0</td>\n",
       "      <td>0</td>\n",
       "      <td>0</td>\n",
       "      <td>0</td>\n",
       "      <td>0</td>\n",
       "      <td>0</td>\n",
       "      <td>0</td>\n",
       "      <td>0</td>\n",
       "      <td>0</td>\n",
       "      <td>0</td>\n",
       "    </tr>\n",
       "    <tr>\n",
       "      <th>SI9592</th>\n",
       "      <td>NTA2020</td>\n",
       "      <td>Staten Island</td>\n",
       "      <td>Miller Field</td>\n",
       "      <td>-2</td>\n",
       "      <td>0</td>\n",
       "      <td>-2</td>\n",
       "      <td>10</td>\n",
       "      <td>8</td>\n",
       "      <td>15</td>\n",
       "      <td>-1</td>\n",
       "      <td>...</td>\n",
       "      <td>7</td>\n",
       "      <td>0</td>\n",
       "      <td>7</td>\n",
       "      <td>0</td>\n",
       "      <td>7</td>\n",
       "      <td>7</td>\n",
       "      <td>0</td>\n",
       "      <td>7</td>\n",
       "      <td>12</td>\n",
       "      <td>19</td>\n",
       "    </tr>\n",
       "    <tr>\n",
       "      <th>SI9593</th>\n",
       "      <td>NTA2020</td>\n",
       "      <td>Staten Island</td>\n",
       "      <td>Great Kills Park</td>\n",
       "      <td>0</td>\n",
       "      <td>0</td>\n",
       "      <td>0</td>\n",
       "      <td>0</td>\n",
       "      <td>0</td>\n",
       "      <td>5</td>\n",
       "      <td>0</td>\n",
       "      <td>...</td>\n",
       "      <td>0</td>\n",
       "      <td>0</td>\n",
       "      <td>0</td>\n",
       "      <td>0</td>\n",
       "      <td>0</td>\n",
       "      <td>3</td>\n",
       "      <td>0</td>\n",
       "      <td>3</td>\n",
       "      <td>0</td>\n",
       "      <td>3</td>\n",
       "    </tr>\n",
       "  </tbody>\n",
       "</table>\n",
       "<p>268 rows × 28 columns</p>\n",
       "</div>"
      ],
      "text/plain": [
       "        GeoType        Borough  \\\n",
       "GeoID                            \n",
       "0           NYC  New York City   \n",
       "1          Boro      Manhattan   \n",
       "2          Boro          Bronx   \n",
       "3          Boro       Brooklyn   \n",
       "4          Boro         Queens   \n",
       "...         ...            ...   \n",
       "SI0391  NTA2020  Staten Island   \n",
       "SI9561  NTA2020  Staten Island   \n",
       "SI9591  NTA2020  Staten Island   \n",
       "SI9592  NTA2020  Staten Island   \n",
       "SI9593  NTA2020  Staten Island   \n",
       "\n",
       "                                                     Name Hispanic Pop Change  \\\n",
       "GeoID                                                                           \n",
       "0       NYC (adjusted for citywide total population in...             154,274   \n",
       "1                                               Manhattan                -937   \n",
       "2                                                   Bronx              65,050   \n",
       "3                                                Brooklyn              20,141   \n",
       "4                                                  Queens              54,111   \n",
       "...                                                   ...                 ...   \n",
       "SI0391                            Freshkills Park (South)                  -9   \n",
       "SI9561                                     Fort Wadsworth                  -3   \n",
       "SI9591                        Hoffman & Swinburne Islands                   0   \n",
       "SI9592                                       Miller Field                  -2   \n",
       "SI9593                                   Great Kills Park                   0   \n",
       "\n",
       "       Hispanic Natural Change Hispanic Net Migration  Hispanic Pop_10  \\\n",
       "GeoID                                                                    \n",
       "0                      242,213                -87,939          2336076   \n",
       "1                       24,328                -25,265           403577   \n",
       "2                       84,961                -19,911           741413   \n",
       "3                       50,358                -30,217           496285   \n",
       "4                       72,532                -18,421           613750   \n",
       "...                        ...                    ...              ...   \n",
       "SI0391                       2                    -11               44   \n",
       "SI9561                      29                    -32              157   \n",
       "SI9591                       0                      0                0   \n",
       "SI9592                       0                     -2               10   \n",
       "SI9593                       0                      0                0   \n",
       "\n",
       "        Hispanic Pop_20 All Pop Change All Natural Change  ...  \\\n",
       "GeoID                                                      ...   \n",
       "0               2490350        561,566            612,638  ...   \n",
       "1                402640        108,378             81,949  ...   \n",
       "2                806463         87,546            114,402  ...   \n",
       "3                516426        231,374            246,479  ...   \n",
       "4                667861        174,742            152,976  ...   \n",
       "...                 ...            ...                ...  ...   \n",
       "SI0391               35             -2                  9  ...   \n",
       "SI9561              154           -236                120  ...   \n",
       "SI9591                0              0                  0  ...   \n",
       "SI9592                8             15                 -1  ...   \n",
       "SI9593                0              5                  0  ...   \n",
       "\n",
       "       Asian Pop Change  Asian Natural Change  Asian Net Migration  \\\n",
       "GeoID                                                                \n",
       "0               345,383               148,946              196,437   \n",
       "1                42,000                19,511               22,489   \n",
       "2                20,431                 8,012               12,419   \n",
       "3               110,647                49,274               61,373   \n",
       "4               148,249                68,698               79,551   \n",
       "...                 ...                   ...                  ...   \n",
       "SI0391                4                     0                    4   \n",
       "SI9561                9                     5                    4   \n",
       "SI9591                0                     0                    0   \n",
       "SI9592                7                     0                    7   \n",
       "SI9593                0                     0                    0   \n",
       "\n",
       "       Asian Pop_10 Asian Pop_20 White Pop Change  White Natural Change  \\\n",
       "GeoID                                                                     \n",
       "0           1028119      1373502           -3,048               126,719   \n",
       "1            177624       219624           31,801                38,086   \n",
       "2             47335        67766          -20,413                -8,271   \n",
       "3            260129       370776           75,121               103,482   \n",
       "4            508334       656583          -67,369                -5,932   \n",
       "...             ...          ...              ...                   ...   \n",
       "SI0391           15           19               -7                     6   \n",
       "SI9561            6           15             -225                    72   \n",
       "SI9591            0            0                0                     0   \n",
       "SI9592            0            7                7                     0   \n",
       "SI9593            0            0                3                     0   \n",
       "\n",
       "        White Net Migration White Pop_10 White Pop_20  \n",
       "GeoID                                                  \n",
       "0                  -129,767      2722904      2719856  \n",
       "1                    -6,285       761493       793294  \n",
       "2                   -12,142       151209       130796  \n",
       "3                   -28,361       893306       968427  \n",
       "4                   -61,437       616727       549358  \n",
       "...                     ...          ...          ...  \n",
       "SI0391                  -13           38           31  \n",
       "SI9561                 -297          463          238  \n",
       "SI9591                    0            0            0  \n",
       "SI9592                    7           12           19  \n",
       "SI9593                    3            0            3  \n",
       "\n",
       "[268 rows x 28 columns]"
      ]
     },
     "execution_count": 4,
     "metadata": {},
     "output_type": "execute_result"
    }
   ],
   "source": [
    "datasets['Census']"
   ]
  },
  {
   "cell_type": "code",
   "execution_count": 5,
   "metadata": {},
   "outputs": [],
   "source": [
    "# X = datasets['Census'][['Hispanic Pop_10', 'Asian Pop_10', 'White Pop_10', 'Black Pop_10']]\n",
    "# X"
   ]
  },
  {
   "cell_type": "code",
   "execution_count": 6,
   "metadata": {},
   "outputs": [],
   "source": [
    "import pandas as pd\n",
    "import numpy as np"
   ]
  },
  {
   "cell_type": "code",
   "execution_count": 13,
   "metadata": {
    "scrolled": true
   },
   "outputs": [
    {
     "data": {
      "text/html": [
       "<div>\n",
       "<style scoped>\n",
       "    .dataframe tbody tr th:only-of-type {\n",
       "        vertical-align: middle;\n",
       "    }\n",
       "\n",
       "    .dataframe tbody tr th {\n",
       "        vertical-align: top;\n",
       "    }\n",
       "\n",
       "    .dataframe thead th {\n",
       "        text-align: right;\n",
       "    }\n",
       "</style>\n",
       "<table border=\"1\" class=\"dataframe\">\n",
       "  <thead>\n",
       "    <tr style=\"text-align: right;\">\n",
       "      <th></th>\n",
       "      <th>GeoType</th>\n",
       "      <th>Borough</th>\n",
       "      <th>Name</th>\n",
       "      <th>Hispanic Pop Change</th>\n",
       "      <th>Hispanic Natural Change</th>\n",
       "      <th>Hispanic Net Migration</th>\n",
       "      <th>Hispanic Pop_10</th>\n",
       "      <th>Hispanic Pop_20</th>\n",
       "      <th>All Pop Change</th>\n",
       "      <th>All Natural Change</th>\n",
       "      <th>...</th>\n",
       "      <th>Asian Pop Change</th>\n",
       "      <th>Asian Natural Change</th>\n",
       "      <th>Asian Net Migration</th>\n",
       "      <th>Asian Pop_10</th>\n",
       "      <th>Asian Pop_20</th>\n",
       "      <th>White Pop Change</th>\n",
       "      <th>White Natural Change</th>\n",
       "      <th>White Net Migration</th>\n",
       "      <th>White Pop_10</th>\n",
       "      <th>White Pop_20</th>\n",
       "    </tr>\n",
       "    <tr>\n",
       "      <th>Borough</th>\n",
       "      <th></th>\n",
       "      <th></th>\n",
       "      <th></th>\n",
       "      <th></th>\n",
       "      <th></th>\n",
       "      <th></th>\n",
       "      <th></th>\n",
       "      <th></th>\n",
       "      <th></th>\n",
       "      <th></th>\n",
       "      <th></th>\n",
       "      <th></th>\n",
       "      <th></th>\n",
       "      <th></th>\n",
       "      <th></th>\n",
       "      <th></th>\n",
       "      <th></th>\n",
       "      <th></th>\n",
       "      <th></th>\n",
       "      <th></th>\n",
       "      <th></th>\n",
       "    </tr>\n",
       "  </thead>\n",
       "  <tbody>\n",
       "    <tr>\n",
       "      <th>New York City</th>\n",
       "      <td>NYC</td>\n",
       "      <td>New York City</td>\n",
       "      <td>NYC (adjusted for citywide total population in...</td>\n",
       "      <td>154,274</td>\n",
       "      <td>242,213</td>\n",
       "      <td>-87,939</td>\n",
       "      <td>2336076</td>\n",
       "      <td>2490350</td>\n",
       "      <td>561,566</td>\n",
       "      <td>612,638</td>\n",
       "      <td>...</td>\n",
       "      <td>345,383</td>\n",
       "      <td>148,946</td>\n",
       "      <td>196,437</td>\n",
       "      <td>1028119</td>\n",
       "      <td>1373502</td>\n",
       "      <td>-3,048</td>\n",
       "      <td>126,719</td>\n",
       "      <td>-129,767</td>\n",
       "      <td>2722904</td>\n",
       "      <td>2719856</td>\n",
       "    </tr>\n",
       "    <tr>\n",
       "      <th>Manhattan</th>\n",
       "      <td>Boro</td>\n",
       "      <td>Manhattan</td>\n",
       "      <td>Manhattan</td>\n",
       "      <td>-937</td>\n",
       "      <td>24,328</td>\n",
       "      <td>-25,265</td>\n",
       "      <td>403577</td>\n",
       "      <td>402640</td>\n",
       "      <td>108,378</td>\n",
       "      <td>81,949</td>\n",
       "      <td>...</td>\n",
       "      <td>42,000</td>\n",
       "      <td>19,511</td>\n",
       "      <td>22,489</td>\n",
       "      <td>177624</td>\n",
       "      <td>219624</td>\n",
       "      <td>31,801</td>\n",
       "      <td>38,086</td>\n",
       "      <td>-6,285</td>\n",
       "      <td>761493</td>\n",
       "      <td>793294</td>\n",
       "    </tr>\n",
       "    <tr>\n",
       "      <th>Bronx</th>\n",
       "      <td>Boro</td>\n",
       "      <td>Bronx</td>\n",
       "      <td>Bronx</td>\n",
       "      <td>65,050</td>\n",
       "      <td>84,961</td>\n",
       "      <td>-19,911</td>\n",
       "      <td>741413</td>\n",
       "      <td>806463</td>\n",
       "      <td>87,546</td>\n",
       "      <td>114,402</td>\n",
       "      <td>...</td>\n",
       "      <td>20,431</td>\n",
       "      <td>8,012</td>\n",
       "      <td>12,419</td>\n",
       "      <td>47335</td>\n",
       "      <td>67766</td>\n",
       "      <td>-20,413</td>\n",
       "      <td>-8,271</td>\n",
       "      <td>-12,142</td>\n",
       "      <td>151209</td>\n",
       "      <td>130796</td>\n",
       "    </tr>\n",
       "    <tr>\n",
       "      <th>Brooklyn</th>\n",
       "      <td>Boro</td>\n",
       "      <td>Brooklyn</td>\n",
       "      <td>Brooklyn</td>\n",
       "      <td>20,141</td>\n",
       "      <td>50,358</td>\n",
       "      <td>-30,217</td>\n",
       "      <td>496285</td>\n",
       "      <td>516426</td>\n",
       "      <td>231,374</td>\n",
       "      <td>246,479</td>\n",
       "      <td>...</td>\n",
       "      <td>110,647</td>\n",
       "      <td>49,274</td>\n",
       "      <td>61,373</td>\n",
       "      <td>260129</td>\n",
       "      <td>370776</td>\n",
       "      <td>75,121</td>\n",
       "      <td>103,482</td>\n",
       "      <td>-28,361</td>\n",
       "      <td>893306</td>\n",
       "      <td>968427</td>\n",
       "    </tr>\n",
       "    <tr>\n",
       "      <th>Queens</th>\n",
       "      <td>Boro</td>\n",
       "      <td>Queens</td>\n",
       "      <td>Queens</td>\n",
       "      <td>54,111</td>\n",
       "      <td>72,532</td>\n",
       "      <td>-18,421</td>\n",
       "      <td>613750</td>\n",
       "      <td>667861</td>\n",
       "      <td>174,742</td>\n",
       "      <td>152,976</td>\n",
       "      <td>...</td>\n",
       "      <td>148,249</td>\n",
       "      <td>68,698</td>\n",
       "      <td>79,551</td>\n",
       "      <td>508334</td>\n",
       "      <td>656583</td>\n",
       "      <td>-67,369</td>\n",
       "      <td>-5,932</td>\n",
       "      <td>-61,437</td>\n",
       "      <td>616727</td>\n",
       "      <td>549358</td>\n",
       "    </tr>\n",
       "    <tr>\n",
       "      <th>Staten Island</th>\n",
       "      <td>Boro</td>\n",
       "      <td>Staten Island</td>\n",
       "      <td>Staten Island</td>\n",
       "      <td>15,909</td>\n",
       "      <td>10,168</td>\n",
       "      <td>5,741</td>\n",
       "      <td>81051</td>\n",
       "      <td>96960</td>\n",
       "      <td>27,017</td>\n",
       "      <td>17,822</td>\n",
       "      <td>...</td>\n",
       "      <td>24,056</td>\n",
       "      <td>3,490</td>\n",
       "      <td>20,566</td>\n",
       "      <td>34697</td>\n",
       "      <td>58753</td>\n",
       "      <td>-22,188</td>\n",
       "      <td>-62</td>\n",
       "      <td>-22,126</td>\n",
       "      <td>300169</td>\n",
       "      <td>277981</td>\n",
       "    </tr>\n",
       "  </tbody>\n",
       "</table>\n",
       "<p>6 rows × 28 columns</p>\n",
       "</div>"
      ],
      "text/plain": [
       "              GeoType        Borough  \\\n",
       "Borough                                \n",
       "New York City     NYC  New York City   \n",
       "Manhattan        Boro      Manhattan   \n",
       "Bronx            Boro          Bronx   \n",
       "Brooklyn         Boro       Brooklyn   \n",
       "Queens           Boro         Queens   \n",
       "Staten Island    Boro  Staten Island   \n",
       "\n",
       "                                                            Name  \\\n",
       "Borough                                                            \n",
       "New York City  NYC (adjusted for citywide total population in...   \n",
       "Manhattan                                              Manhattan   \n",
       "Bronx                                                      Bronx   \n",
       "Brooklyn                                                Brooklyn   \n",
       "Queens                                                    Queens   \n",
       "Staten Island                                      Staten Island   \n",
       "\n",
       "              Hispanic Pop Change Hispanic Natural Change  \\\n",
       "Borough                                                     \n",
       "New York City             154,274                 242,213   \n",
       "Manhattan                    -937                  24,328   \n",
       "Bronx                      65,050                  84,961   \n",
       "Brooklyn                   20,141                  50,358   \n",
       "Queens                     54,111                  72,532   \n",
       "Staten Island              15,909                  10,168   \n",
       "\n",
       "              Hispanic Net Migration  Hispanic Pop_10  Hispanic Pop_20  \\\n",
       "Borough                                                                  \n",
       "New York City                -87,939          2336076          2490350   \n",
       "Manhattan                    -25,265           403577           402640   \n",
       "Bronx                        -19,911           741413           806463   \n",
       "Brooklyn                     -30,217           496285           516426   \n",
       "Queens                       -18,421           613750           667861   \n",
       "Staten Island                  5,741            81051            96960   \n",
       "\n",
       "              All Pop Change All Natural Change  ... Asian Pop Change  \\\n",
       "Borough                                          ...                    \n",
       "New York City        561,566            612,638  ...          345,383   \n",
       "Manhattan            108,378             81,949  ...           42,000   \n",
       "Bronx                 87,546            114,402  ...           20,431   \n",
       "Brooklyn             231,374            246,479  ...          110,647   \n",
       "Queens               174,742            152,976  ...          148,249   \n",
       "Staten Island         27,017             17,822  ...           24,056   \n",
       "\n",
       "               Asian Natural Change  Asian Net Migration Asian Pop_10  \\\n",
       "Borough                                                                 \n",
       "New York City               148,946              196,437      1028119   \n",
       "Manhattan                    19,511               22,489       177624   \n",
       "Bronx                         8,012               12,419        47335   \n",
       "Brooklyn                     49,274               61,373       260129   \n",
       "Queens                       68,698               79,551       508334   \n",
       "Staten Island                 3,490               20,566        34697   \n",
       "\n",
       "              Asian Pop_20 White Pop Change  White Natural Change  \\\n",
       "Borough                                                             \n",
       "New York City      1373502           -3,048               126,719   \n",
       "Manhattan           219624           31,801                38,086   \n",
       "Bronx                67766          -20,413                -8,271   \n",
       "Brooklyn            370776           75,121               103,482   \n",
       "Queens              656583          -67,369                -5,932   \n",
       "Staten Island        58753          -22,188                   -62   \n",
       "\n",
       "               White Net Migration White Pop_10 White Pop_20  \n",
       "Borough                                                       \n",
       "New York City             -129,767      2722904      2719856  \n",
       "Manhattan                   -6,285       761493       793294  \n",
       "Bronx                      -12,142       151209       130796  \n",
       "Brooklyn                   -28,361       893306       968427  \n",
       "Queens                     -61,437       616727       549358  \n",
       "Staten Island              -22,126       300169       277981  \n",
       "\n",
       "[6 rows x 28 columns]"
      ]
     },
     "execution_count": 13,
     "metadata": {},
     "output_type": "execute_result"
    }
   ],
   "source": [
    "total_census = datasets['Census'].iloc[:][0:6].set_index('Borough', drop=False)\n",
    "total_census"
   ]
  },
  {
   "cell_type": "code",
   "execution_count": 14,
   "metadata": {},
   "outputs": [
    {
     "name": "stderr",
     "output_type": "stream",
     "text": [
      "/Users/sdong/Documents/UCSD/ECE143/Proj/data_utils.py:66: SettingWithCopyWarning: \n",
      "A value is trying to be set on a copy of a slice from a DataFrame\n",
      "\n",
      "See the caveats in the documentation: https://pandas.pydata.org/pandas-docs/stable/user_guide/indexing.html#returning-a-view-versus-a-copy\n",
      "  filtered_dataset.rename(columns=rename_cols, inplace=True)\n"
     ]
    },
    {
     "data": {
      "text/html": [
       "<div>\n",
       "<style scoped>\n",
       "    .dataframe tbody tr th:only-of-type {\n",
       "        vertical-align: middle;\n",
       "    }\n",
       "\n",
       "    .dataframe tbody tr th {\n",
       "        vertical-align: top;\n",
       "    }\n",
       "\n",
       "    .dataframe thead th {\n",
       "        text-align: right;\n",
       "    }\n",
       "</style>\n",
       "<table border=\"1\" class=\"dataframe\">\n",
       "  <thead>\n",
       "    <tr style=\"text-align: right;\">\n",
       "      <th></th>\n",
       "      <th>Hispanic</th>\n",
       "      <th>Black</th>\n",
       "      <th>Asian</th>\n",
       "      <th>White</th>\n",
       "    </tr>\n",
       "    <tr>\n",
       "      <th>Borough</th>\n",
       "      <th></th>\n",
       "      <th></th>\n",
       "      <th></th>\n",
       "      <th></th>\n",
       "    </tr>\n",
       "  </thead>\n",
       "  <tbody>\n",
       "    <tr>\n",
       "      <th>New York City</th>\n",
       "      <td>2336076</td>\n",
       "      <td>1861295</td>\n",
       "      <td>1028119</td>\n",
       "      <td>2722904</td>\n",
       "    </tr>\n",
       "    <tr>\n",
       "      <th>Manhattan</th>\n",
       "      <td>403577</td>\n",
       "      <td>205340</td>\n",
       "      <td>177624</td>\n",
       "      <td>761493</td>\n",
       "    </tr>\n",
       "    <tr>\n",
       "      <th>Bronx</th>\n",
       "      <td>741413</td>\n",
       "      <td>416695</td>\n",
       "      <td>47335</td>\n",
       "      <td>151209</td>\n",
       "    </tr>\n",
       "    <tr>\n",
       "      <th>Brooklyn</th>\n",
       "      <td>496285</td>\n",
       "      <td>799066</td>\n",
       "      <td>260129</td>\n",
       "      <td>893306</td>\n",
       "    </tr>\n",
       "    <tr>\n",
       "      <th>Queens</th>\n",
       "      <td>613750</td>\n",
       "      <td>395881</td>\n",
       "      <td>508334</td>\n",
       "      <td>616727</td>\n",
       "    </tr>\n",
       "    <tr>\n",
       "      <th>Staten Island</th>\n",
       "      <td>81051</td>\n",
       "      <td>44313</td>\n",
       "      <td>34697</td>\n",
       "      <td>300169</td>\n",
       "    </tr>\n",
       "  </tbody>\n",
       "</table>\n",
       "</div>"
      ],
      "text/plain": [
       "               Hispanic    Black    Asian    White\n",
       "Borough                                           \n",
       "New York City   2336076  1861295  1028119  2722904\n",
       "Manhattan        403577   205340   177624   761493\n",
       "Bronx            741413   416695    47335   151209\n",
       "Brooklyn         496285   799066   260129   893306\n",
       "Queens           613750   395881   508334   616727\n",
       "Staten Island     81051    44313    34697   300169"
      ]
     },
     "execution_count": 14,
     "metadata": {},
     "output_type": "execute_result"
    }
   ],
   "source": [
    "filtered_census_10 = du.filter_by_boro_feature(total_census, feature='Pop_10').drop(columns=['All'])\n",
    "filtered_census_10"
   ]
  },
  {
   "cell_type": "code",
   "execution_count": 15,
   "metadata": {},
   "outputs": [
    {
     "name": "stderr",
     "output_type": "stream",
     "text": [
      "/Users/sdong/Documents/UCSD/ECE143/Proj/data_utils.py:66: SettingWithCopyWarning: \n",
      "A value is trying to be set on a copy of a slice from a DataFrame\n",
      "\n",
      "See the caveats in the documentation: https://pandas.pydata.org/pandas-docs/stable/user_guide/indexing.html#returning-a-view-versus-a-copy\n",
      "  filtered_dataset.rename(columns=rename_cols, inplace=True)\n"
     ]
    },
    {
     "data": {
      "text/html": [
       "<div>\n",
       "<style scoped>\n",
       "    .dataframe tbody tr th:only-of-type {\n",
       "        vertical-align: middle;\n",
       "    }\n",
       "\n",
       "    .dataframe tbody tr th {\n",
       "        vertical-align: top;\n",
       "    }\n",
       "\n",
       "    .dataframe thead th {\n",
       "        text-align: right;\n",
       "    }\n",
       "</style>\n",
       "<table border=\"1\" class=\"dataframe\">\n",
       "  <thead>\n",
       "    <tr style=\"text-align: right;\">\n",
       "      <th></th>\n",
       "      <th>Hispanic</th>\n",
       "      <th>Black</th>\n",
       "      <th>Asian</th>\n",
       "      <th>White</th>\n",
       "    </tr>\n",
       "    <tr>\n",
       "      <th>Borough</th>\n",
       "      <th></th>\n",
       "      <th></th>\n",
       "      <th></th>\n",
       "      <th></th>\n",
       "    </tr>\n",
       "  </thead>\n",
       "  <tbody>\n",
       "    <tr>\n",
       "      <th>New York City</th>\n",
       "      <td>2490350</td>\n",
       "      <td>1776891</td>\n",
       "      <td>1373502</td>\n",
       "      <td>2719856</td>\n",
       "    </tr>\n",
       "    <tr>\n",
       "      <th>Manhattan</th>\n",
       "      <td>402640</td>\n",
       "      <td>199592</td>\n",
       "      <td>219624</td>\n",
       "      <td>793294</td>\n",
       "    </tr>\n",
       "    <tr>\n",
       "      <th>Bronx</th>\n",
       "      <td>806463</td>\n",
       "      <td>419393</td>\n",
       "      <td>67766</td>\n",
       "      <td>130796</td>\n",
       "    </tr>\n",
       "    <tr>\n",
       "      <th>Brooklyn</th>\n",
       "      <td>516426</td>\n",
       "      <td>729696</td>\n",
       "      <td>370776</td>\n",
       "      <td>968427</td>\n",
       "    </tr>\n",
       "    <tr>\n",
       "      <th>Queens</th>\n",
       "      <td>667861</td>\n",
       "      <td>381375</td>\n",
       "      <td>656583</td>\n",
       "      <td>549358</td>\n",
       "    </tr>\n",
       "    <tr>\n",
       "      <th>Staten Island</th>\n",
       "      <td>96960</td>\n",
       "      <td>46835</td>\n",
       "      <td>58753</td>\n",
       "      <td>277981</td>\n",
       "    </tr>\n",
       "  </tbody>\n",
       "</table>\n",
       "</div>"
      ],
      "text/plain": [
       "               Hispanic    Black    Asian    White\n",
       "Borough                                           \n",
       "New York City   2490350  1776891  1373502  2719856\n",
       "Manhattan        402640   199592   219624   793294\n",
       "Bronx            806463   419393    67766   130796\n",
       "Brooklyn         516426   729696   370776   968427\n",
       "Queens           667861   381375   656583   549358\n",
       "Staten Island     96960    46835    58753   277981"
      ]
     },
     "execution_count": 15,
     "metadata": {},
     "output_type": "execute_result"
    }
   ],
   "source": [
    "filtered_census_20 = du.filter_by_boro_feature(total_census, feature='Pop_20').drop(columns=['All'])\n",
    "filtered_census_20"
   ]
  },
  {
   "cell_type": "code",
   "execution_count": 16,
   "metadata": {},
   "outputs": [
    {
     "data": {
      "text/html": [
       "<div>\n",
       "<style scoped>\n",
       "    .dataframe tbody tr th:only-of-type {\n",
       "        vertical-align: middle;\n",
       "    }\n",
       "\n",
       "    .dataframe tbody tr th {\n",
       "        vertical-align: top;\n",
       "    }\n",
       "\n",
       "    .dataframe thead th {\n",
       "        text-align: right;\n",
       "    }\n",
       "</style>\n",
       "<table border=\"1\" class=\"dataframe\">\n",
       "  <thead>\n",
       "    <tr style=\"text-align: right;\">\n",
       "      <th></th>\n",
       "      <th>Hispanic</th>\n",
       "      <th>Black</th>\n",
       "      <th>Asian</th>\n",
       "      <th>White</th>\n",
       "    </tr>\n",
       "    <tr>\n",
       "      <th>Borough</th>\n",
       "      <th></th>\n",
       "      <th></th>\n",
       "      <th></th>\n",
       "      <th></th>\n",
       "    </tr>\n",
       "  </thead>\n",
       "  <tbody>\n",
       "    <tr>\n",
       "      <th>New York City</th>\n",
       "      <td>0.560146</td>\n",
       "      <td>0.446302</td>\n",
       "      <td>0.246523</td>\n",
       "      <td>0.652899</td>\n",
       "    </tr>\n",
       "    <tr>\n",
       "      <th>Manhattan</th>\n",
       "      <td>0.446641</td>\n",
       "      <td>0.227251</td>\n",
       "      <td>0.196578</td>\n",
       "      <td>0.842749</td>\n",
       "    </tr>\n",
       "    <tr>\n",
       "      <th>Bronx</th>\n",
       "      <td>0.857006</td>\n",
       "      <td>0.481661</td>\n",
       "      <td>0.054715</td>\n",
       "      <td>0.174784</td>\n",
       "    </tr>\n",
       "    <tr>\n",
       "      <th>Brooklyn</th>\n",
       "      <td>0.375106</td>\n",
       "      <td>0.603956</td>\n",
       "      <td>0.196613</td>\n",
       "      <td>0.675186</td>\n",
       "    </tr>\n",
       "    <tr>\n",
       "      <th>Queens</th>\n",
       "      <td>0.566887</td>\n",
       "      <td>0.365654</td>\n",
       "      <td>0.469520</td>\n",
       "      <td>0.569637</td>\n",
       "    </tr>\n",
       "    <tr>\n",
       "      <th>Staten Island</th>\n",
       "      <td>0.256513</td>\n",
       "      <td>0.140244</td>\n",
       "      <td>0.109810</td>\n",
       "      <td>0.949986</td>\n",
       "    </tr>\n",
       "  </tbody>\n",
       "</table>\n",
       "</div>"
      ],
      "text/plain": [
       "               Hispanic     Black     Asian     White\n",
       "Borough                                              \n",
       "New York City  0.560146  0.446302  0.246523  0.652899\n",
       "Manhattan      0.446641  0.227251  0.196578  0.842749\n",
       "Bronx          0.857006  0.481661  0.054715  0.174784\n",
       "Brooklyn       0.375106  0.603956  0.196613  0.675186\n",
       "Queens         0.566887  0.365654  0.469520  0.569637\n",
       "Staten Island  0.256513  0.140244  0.109810  0.949986"
      ]
     },
     "execution_count": 16,
     "metadata": {},
     "output_type": "execute_result"
    }
   ],
   "source": [
    "# Noramalize all rows to between 0-1 via the euclidean norm\n",
    "filtered_census_10 = du.normalize(filtered_census_10)\n",
    "filtered_census_20 = du.normalize(filtered_census_20)\n",
    "filtered_census_10"
   ]
  },
  {
   "cell_type": "code",
   "execution_count": 17,
   "metadata": {},
   "outputs": [
    {
     "data": {
      "text/html": [
       "<div>\n",
       "<style scoped>\n",
       "    .dataframe tbody tr th:only-of-type {\n",
       "        vertical-align: middle;\n",
       "    }\n",
       "\n",
       "    .dataframe tbody tr th {\n",
       "        vertical-align: top;\n",
       "    }\n",
       "\n",
       "    .dataframe thead th {\n",
       "        text-align: right;\n",
       "    }\n",
       "</style>\n",
       "<table border=\"1\" class=\"dataframe\">\n",
       "  <thead>\n",
       "    <tr style=\"text-align: right;\">\n",
       "      <th></th>\n",
       "      <th>Hispanic</th>\n",
       "      <th>Black</th>\n",
       "      <th>Asian</th>\n",
       "      <th>White</th>\n",
       "    </tr>\n",
       "    <tr>\n",
       "      <th>Borough</th>\n",
       "      <th></th>\n",
       "      <th></th>\n",
       "      <th></th>\n",
       "      <th></th>\n",
       "    </tr>\n",
       "  </thead>\n",
       "  <tbody>\n",
       "    <tr>\n",
       "      <th>New York City</th>\n",
       "      <td>0.576765</td>\n",
       "      <td>0.411528</td>\n",
       "      <td>0.318103</td>\n",
       "      <td>0.629919</td>\n",
       "    </tr>\n",
       "    <tr>\n",
       "      <th>Manhattan</th>\n",
       "      <td>0.429336</td>\n",
       "      <td>0.212826</td>\n",
       "      <td>0.234186</td>\n",
       "      <td>0.845892</td>\n",
       "    </tr>\n",
       "    <tr>\n",
       "      <th>Bronx</th>\n",
       "      <td>0.875777</td>\n",
       "      <td>0.455439</td>\n",
       "      <td>0.073590</td>\n",
       "      <td>0.142038</td>\n",
       "    </tr>\n",
       "    <tr>\n",
       "      <th>Brooklyn</th>\n",
       "      <td>0.377197</td>\n",
       "      <td>0.532969</td>\n",
       "      <td>0.270814</td>\n",
       "      <td>0.707338</td>\n",
       "    </tr>\n",
       "    <tr>\n",
       "      <th>Queens</th>\n",
       "      <td>0.580336</td>\n",
       "      <td>0.331395</td>\n",
       "      <td>0.570536</td>\n",
       "      <td>0.477363</td>\n",
       "    </tr>\n",
       "    <tr>\n",
       "      <th>Staten Island</th>\n",
       "      <td>0.319113</td>\n",
       "      <td>0.154142</td>\n",
       "      <td>0.193367</td>\n",
       "      <td>0.914886</td>\n",
       "    </tr>\n",
       "  </tbody>\n",
       "</table>\n",
       "</div>"
      ],
      "text/plain": [
       "               Hispanic     Black     Asian     White\n",
       "Borough                                              \n",
       "New York City  0.576765  0.411528  0.318103  0.629919\n",
       "Manhattan      0.429336  0.212826  0.234186  0.845892\n",
       "Bronx          0.875777  0.455439  0.073590  0.142038\n",
       "Brooklyn       0.377197  0.532969  0.270814  0.707338\n",
       "Queens         0.580336  0.331395  0.570536  0.477363\n",
       "Staten Island  0.319113  0.154142  0.193367  0.914886"
      ]
     },
     "execution_count": 17,
     "metadata": {},
     "output_type": "execute_result"
    }
   ],
   "source": [
    "filtered_census_20"
   ]
  },
  {
   "cell_type": "code",
   "execution_count": 94,
   "metadata": {
    "scrolled": false
   },
   "outputs": [
    {
     "data": {
      "application/vnd.plotly.v1+json": {
       "config": {
        "plotlyServerURL": "https://plot.ly"
       },
       "data": [
        {
         "fill": "toself",
         "fillcolor": "rgba(255, 87, 51, 0.75)",
         "legendgroup": "2010s",
         "line": {
          "color": "rgba(255, 87, 51, 0.2)"
         },
         "name": "2010s",
         "r": [
          0.5601455690553423,
          0.44630232362083394,
          0.2465229308942044,
          0.6528993964935506
         ],
         "showlegend": true,
         "subplot": "polar",
         "theta": [
          "Hispanic",
          "Black",
          "Asian",
          "White"
         ],
         "type": "scatterpolar"
        },
        {
         "fill": "toself",
         "fillcolor": "rgba(207, 159, 255, 0.5)",
         "legendgroup": "2020s",
         "line": {
          "color": "rgba(207, 159, 255, 0.5)"
         },
         "name": "2020s",
         "r": [
          0.5767649859986836,
          0.41152790279928003,
          0.31810302238607585,
          0.6299185687788607
         ],
         "showlegend": true,
         "subplot": "polar",
         "theta": [
          "Hispanic",
          "Black",
          "Asian",
          "White"
         ],
         "type": "scatterpolar"
        },
        {
         "fill": "toself",
         "fillcolor": "rgba(255, 87, 51, 0.75)",
         "legendgroup": "2010s",
         "line": {
          "color": "rgba(255, 87, 51, 0.2)"
         },
         "name": "2010s",
         "r": [
          0.44664115979728664,
          0.22725104689507786,
          0.1965775784245218,
          0.8427490087331914
         ],
         "showlegend": false,
         "subplot": "polar3",
         "theta": [
          "Hispanic",
          "Black",
          "Asian",
          "White"
         ],
         "type": "scatterpolar"
        },
        {
         "fill": "toself",
         "fillcolor": "rgba(207, 159, 255, 0.5)",
         "legendgroup": "2020s",
         "line": {
          "color": "rgba(207, 159, 255, 0.5)"
         },
         "name": "2020s",
         "r": [
          0.42933620402844563,
          0.2128255305842577,
          0.23418571049459405,
          0.84589170136733
         ],
         "showlegend": false,
         "subplot": "polar3",
         "theta": [
          "Hispanic",
          "Black",
          "Asian",
          "White"
         ],
         "type": "scatterpolar"
        },
        {
         "fill": "toself",
         "fillcolor": "rgba(255, 87, 51, 0.75)",
         "legendgroup": "2010s",
         "line": {
          "color": "rgba(255, 87, 51, 0.2)"
         },
         "name": "2010s",
         "r": [
          0.8570059020270426,
          0.4816614685002266,
          0.05471494885097788,
          0.17478383227648703
         ],
         "showlegend": false,
         "subplot": "polar2",
         "theta": [
          "Hispanic",
          "Black",
          "Asian",
          "White"
         ],
         "type": "scatterpolar"
        },
        {
         "fill": "toself",
         "fillcolor": "rgba(207, 159, 255, 0.5)",
         "legendgroup": "2020s",
         "line": {
          "color": "rgba(207, 159, 255, 0.5)"
         },
         "name": "2020s",
         "r": [
          0.8757768576709574,
          0.45543897695144825,
          0.07359035013004948,
          0.14203765067452634
         ],
         "showlegend": false,
         "subplot": "polar2",
         "theta": [
          "Hispanic",
          "Black",
          "Asian",
          "White"
         ],
         "type": "scatterpolar"
        },
        {
         "fill": "toself",
         "fillcolor": "rgba(255, 87, 51, 0.75)",
         "legendgroup": "2010s",
         "line": {
          "color": "rgba(255, 87, 51, 0.2)"
         },
         "name": "2010s",
         "r": [
          0.3751060454491353,
          0.603956370458222,
          0.19661275375366596,
          0.6751855910131985
         ],
         "showlegend": false,
         "subplot": "polar4",
         "theta": [
          "Hispanic",
          "Black",
          "Asian",
          "White"
         ],
         "type": "scatterpolar"
        },
        {
         "fill": "toself",
         "fillcolor": "rgba(207, 159, 255, 0.5)",
         "legendgroup": "2020s",
         "line": {
          "color": "rgba(207, 159, 255, 0.5)"
         },
         "name": "2020s",
         "r": [
          0.37719675932284336,
          0.5329688406293283,
          0.27081422243397224,
          0.707337597333874
         ],
         "showlegend": false,
         "subplot": "polar4",
         "theta": [
          "Hispanic",
          "Black",
          "Asian",
          "White"
         ],
         "type": "scatterpolar"
        },
        {
         "fill": "toself",
         "fillcolor": "rgba(255, 87, 51, 0.75)",
         "legendgroup": "2010s",
         "line": {
          "color": "rgba(255, 87, 51, 0.2)"
         },
         "name": "2010s",
         "r": [
          0.5668874686678694,
          0.3656537319490099,
          0.4695204472469454,
          0.5696371615301493
         ],
         "showlegend": false,
         "subplot": "polar6",
         "theta": [
          "Hispanic",
          "Black",
          "Asian",
          "White"
         ],
         "type": "scatterpolar"
        },
        {
         "fill": "toself",
         "fillcolor": "rgba(207, 159, 255, 0.5)",
         "legendgroup": "2020s",
         "line": {
          "color": "rgba(207, 159, 255, 0.5)"
         },
         "name": "2020s",
         "r": [
          0.5803362102528494,
          0.3313948893335297,
          0.5705362192678516,
          0.47736331331232823
         ],
         "showlegend": false,
         "subplot": "polar6",
         "theta": [
          "Hispanic",
          "Black",
          "Asian",
          "White"
         ],
         "type": "scatterpolar"
        },
        {
         "fill": "toself",
         "fillcolor": "rgba(255, 87, 51, 0.75)",
         "legendgroup": "2010s",
         "line": {
          "color": "rgba(255, 87, 51, 0.2)"
         },
         "name": "2010s",
         "r": [
          0.2565133481982556,
          0.1402435009896152,
          0.10981041125260484,
          0.9499864926444114
         ],
         "showlegend": false,
         "subplot": "polar5",
         "theta": [
          "Hispanic",
          "Black",
          "Asian",
          "White"
         ],
         "type": "scatterpolar"
        },
        {
         "fill": "toself",
         "fillcolor": "rgba(207, 159, 255, 0.5)",
         "legendgroup": "2020s",
         "line": {
          "color": "rgba(207, 159, 255, 0.5)"
         },
         "name": "2020s",
         "r": [
          0.319112965404353,
          0.15414248901312783,
          0.1933667910107462,
          0.9148859450914547
         ],
         "showlegend": false,
         "subplot": "polar5",
         "theta": [
          "Hispanic",
          "Black",
          "Asian",
          "White"
         ],
         "type": "scatterpolar"
        }
       ],
       "layout": {
        "annotations": [
         {
          "font": {
           "size": 16
          },
          "showarrow": false,
          "text": "New York City",
          "x": 0.14444444444444446,
          "xanchor": "center",
          "xref": "paper",
          "y": 1.05,
          "yanchor": "bottom",
          "yref": "paper"
         },
         {
          "font": {
           "size": 16
          },
          "showarrow": false,
          "text": "Manhattan",
          "x": 0.5,
          "xanchor": "center",
          "xref": "paper",
          "y": 1.05,
          "yanchor": "bottom",
          "yref": "paper"
         },
         {
          "font": {
           "size": 16
          },
          "showarrow": false,
          "text": "Bronx",
          "x": 0.8555555555555556,
          "xanchor": "center",
          "xref": "paper",
          "y": 1.05,
          "yanchor": "bottom",
          "yref": "paper"
         },
         {
          "font": {
           "size": 16
          },
          "showarrow": false,
          "text": "Brooklyn",
          "x": 0.14444444444444446,
          "xanchor": "center",
          "xref": "paper",
          "y": 0.45,
          "yanchor": "bottom",
          "yref": "paper"
         },
         {
          "font": {
           "size": 16
          },
          "showarrow": false,
          "text": "Queens",
          "x": 0.5,
          "xanchor": "center",
          "xref": "paper",
          "y": 0.45,
          "yanchor": "bottom",
          "yref": "paper"
         },
         {
          "font": {
           "size": 16
          },
          "showarrow": false,
          "text": "Staten Island",
          "x": 0.8555555555555556,
          "xanchor": "center",
          "xref": "paper",
          "y": 0.45,
          "yanchor": "bottom",
          "yref": "paper"
         }
        ],
        "polar": {
         "domain": {
          "x": [
           0,
           0.2888888888888889
          ],
          "y": [
           0.625,
           1
          ]
         },
         "radialaxis": {
          "range": [
           0,
           1
          ],
          "visible": true
         }
        },
        "polar2": {
         "domain": {
          "x": [
           0.35555555555555557,
           0.6444444444444445
          ],
          "y": [
           0.625,
           1
          ]
         }
        },
        "polar3": {
         "domain": {
          "x": [
           0.7111111111111111,
           1
          ],
          "y": [
           0.625,
           1
          ]
         }
        },
        "polar4": {
         "domain": {
          "x": [
           0,
           0.2888888888888889
          ],
          "y": [
           0,
           0.375
          ]
         }
        },
        "polar5": {
         "domain": {
          "x": [
           0.35555555555555557,
           0.6444444444444445
          ],
          "y": [
           0,
           0.375
          ]
         }
        },
        "polar6": {
         "domain": {
          "x": [
           0.7111111111111111,
           1
          ],
          "y": [
           0,
           0.375
          ]
         }
        },
        "template": {
         "data": {
          "bar": [
           {
            "error_x": {
             "color": "#2a3f5f"
            },
            "error_y": {
             "color": "#2a3f5f"
            },
            "marker": {
             "line": {
              "color": "#E5ECF6",
              "width": 0.5
             },
             "pattern": {
              "fillmode": "overlay",
              "size": 10,
              "solidity": 0.2
             }
            },
            "type": "bar"
           }
          ],
          "barpolar": [
           {
            "marker": {
             "line": {
              "color": "#E5ECF6",
              "width": 0.5
             },
             "pattern": {
              "fillmode": "overlay",
              "size": 10,
              "solidity": 0.2
             }
            },
            "type": "barpolar"
           }
          ],
          "carpet": [
           {
            "aaxis": {
             "endlinecolor": "#2a3f5f",
             "gridcolor": "white",
             "linecolor": "white",
             "minorgridcolor": "white",
             "startlinecolor": "#2a3f5f"
            },
            "baxis": {
             "endlinecolor": "#2a3f5f",
             "gridcolor": "white",
             "linecolor": "white",
             "minorgridcolor": "white",
             "startlinecolor": "#2a3f5f"
            },
            "type": "carpet"
           }
          ],
          "choropleth": [
           {
            "colorbar": {
             "outlinewidth": 0,
             "ticks": ""
            },
            "type": "choropleth"
           }
          ],
          "contour": [
           {
            "colorbar": {
             "outlinewidth": 0,
             "ticks": ""
            },
            "colorscale": [
             [
              0,
              "#0d0887"
             ],
             [
              0.1111111111111111,
              "#46039f"
             ],
             [
              0.2222222222222222,
              "#7201a8"
             ],
             [
              0.3333333333333333,
              "#9c179e"
             ],
             [
              0.4444444444444444,
              "#bd3786"
             ],
             [
              0.5555555555555556,
              "#d8576b"
             ],
             [
              0.6666666666666666,
              "#ed7953"
             ],
             [
              0.7777777777777778,
              "#fb9f3a"
             ],
             [
              0.8888888888888888,
              "#fdca26"
             ],
             [
              1,
              "#f0f921"
             ]
            ],
            "type": "contour"
           }
          ],
          "contourcarpet": [
           {
            "colorbar": {
             "outlinewidth": 0,
             "ticks": ""
            },
            "type": "contourcarpet"
           }
          ],
          "heatmap": [
           {
            "colorbar": {
             "outlinewidth": 0,
             "ticks": ""
            },
            "colorscale": [
             [
              0,
              "#0d0887"
             ],
             [
              0.1111111111111111,
              "#46039f"
             ],
             [
              0.2222222222222222,
              "#7201a8"
             ],
             [
              0.3333333333333333,
              "#9c179e"
             ],
             [
              0.4444444444444444,
              "#bd3786"
             ],
             [
              0.5555555555555556,
              "#d8576b"
             ],
             [
              0.6666666666666666,
              "#ed7953"
             ],
             [
              0.7777777777777778,
              "#fb9f3a"
             ],
             [
              0.8888888888888888,
              "#fdca26"
             ],
             [
              1,
              "#f0f921"
             ]
            ],
            "type": "heatmap"
           }
          ],
          "heatmapgl": [
           {
            "colorbar": {
             "outlinewidth": 0,
             "ticks": ""
            },
            "colorscale": [
             [
              0,
              "#0d0887"
             ],
             [
              0.1111111111111111,
              "#46039f"
             ],
             [
              0.2222222222222222,
              "#7201a8"
             ],
             [
              0.3333333333333333,
              "#9c179e"
             ],
             [
              0.4444444444444444,
              "#bd3786"
             ],
             [
              0.5555555555555556,
              "#d8576b"
             ],
             [
              0.6666666666666666,
              "#ed7953"
             ],
             [
              0.7777777777777778,
              "#fb9f3a"
             ],
             [
              0.8888888888888888,
              "#fdca26"
             ],
             [
              1,
              "#f0f921"
             ]
            ],
            "type": "heatmapgl"
           }
          ],
          "histogram": [
           {
            "marker": {
             "pattern": {
              "fillmode": "overlay",
              "size": 10,
              "solidity": 0.2
             }
            },
            "type": "histogram"
           }
          ],
          "histogram2d": [
           {
            "colorbar": {
             "outlinewidth": 0,
             "ticks": ""
            },
            "colorscale": [
             [
              0,
              "#0d0887"
             ],
             [
              0.1111111111111111,
              "#46039f"
             ],
             [
              0.2222222222222222,
              "#7201a8"
             ],
             [
              0.3333333333333333,
              "#9c179e"
             ],
             [
              0.4444444444444444,
              "#bd3786"
             ],
             [
              0.5555555555555556,
              "#d8576b"
             ],
             [
              0.6666666666666666,
              "#ed7953"
             ],
             [
              0.7777777777777778,
              "#fb9f3a"
             ],
             [
              0.8888888888888888,
              "#fdca26"
             ],
             [
              1,
              "#f0f921"
             ]
            ],
            "type": "histogram2d"
           }
          ],
          "histogram2dcontour": [
           {
            "colorbar": {
             "outlinewidth": 0,
             "ticks": ""
            },
            "colorscale": [
             [
              0,
              "#0d0887"
             ],
             [
              0.1111111111111111,
              "#46039f"
             ],
             [
              0.2222222222222222,
              "#7201a8"
             ],
             [
              0.3333333333333333,
              "#9c179e"
             ],
             [
              0.4444444444444444,
              "#bd3786"
             ],
             [
              0.5555555555555556,
              "#d8576b"
             ],
             [
              0.6666666666666666,
              "#ed7953"
             ],
             [
              0.7777777777777778,
              "#fb9f3a"
             ],
             [
              0.8888888888888888,
              "#fdca26"
             ],
             [
              1,
              "#f0f921"
             ]
            ],
            "type": "histogram2dcontour"
           }
          ],
          "mesh3d": [
           {
            "colorbar": {
             "outlinewidth": 0,
             "ticks": ""
            },
            "type": "mesh3d"
           }
          ],
          "parcoords": [
           {
            "line": {
             "colorbar": {
              "outlinewidth": 0,
              "ticks": ""
             }
            },
            "type": "parcoords"
           }
          ],
          "pie": [
           {
            "automargin": true,
            "type": "pie"
           }
          ],
          "scatter": [
           {
            "marker": {
             "colorbar": {
              "outlinewidth": 0,
              "ticks": ""
             }
            },
            "type": "scatter"
           }
          ],
          "scatter3d": [
           {
            "line": {
             "colorbar": {
              "outlinewidth": 0,
              "ticks": ""
             }
            },
            "marker": {
             "colorbar": {
              "outlinewidth": 0,
              "ticks": ""
             }
            },
            "type": "scatter3d"
           }
          ],
          "scattercarpet": [
           {
            "marker": {
             "colorbar": {
              "outlinewidth": 0,
              "ticks": ""
             }
            },
            "type": "scattercarpet"
           }
          ],
          "scattergeo": [
           {
            "marker": {
             "colorbar": {
              "outlinewidth": 0,
              "ticks": ""
             }
            },
            "type": "scattergeo"
           }
          ],
          "scattergl": [
           {
            "marker": {
             "colorbar": {
              "outlinewidth": 0,
              "ticks": ""
             }
            },
            "type": "scattergl"
           }
          ],
          "scattermapbox": [
           {
            "marker": {
             "colorbar": {
              "outlinewidth": 0,
              "ticks": ""
             }
            },
            "type": "scattermapbox"
           }
          ],
          "scatterpolar": [
           {
            "marker": {
             "colorbar": {
              "outlinewidth": 0,
              "ticks": ""
             }
            },
            "type": "scatterpolar"
           }
          ],
          "scatterpolargl": [
           {
            "marker": {
             "colorbar": {
              "outlinewidth": 0,
              "ticks": ""
             }
            },
            "type": "scatterpolargl"
           }
          ],
          "scatterternary": [
           {
            "marker": {
             "colorbar": {
              "outlinewidth": 0,
              "ticks": ""
             }
            },
            "type": "scatterternary"
           }
          ],
          "surface": [
           {
            "colorbar": {
             "outlinewidth": 0,
             "ticks": ""
            },
            "colorscale": [
             [
              0,
              "#0d0887"
             ],
             [
              0.1111111111111111,
              "#46039f"
             ],
             [
              0.2222222222222222,
              "#7201a8"
             ],
             [
              0.3333333333333333,
              "#9c179e"
             ],
             [
              0.4444444444444444,
              "#bd3786"
             ],
             [
              0.5555555555555556,
              "#d8576b"
             ],
             [
              0.6666666666666666,
              "#ed7953"
             ],
             [
              0.7777777777777778,
              "#fb9f3a"
             ],
             [
              0.8888888888888888,
              "#fdca26"
             ],
             [
              1,
              "#f0f921"
             ]
            ],
            "type": "surface"
           }
          ],
          "table": [
           {
            "cells": {
             "fill": {
              "color": "#EBF0F8"
             },
             "line": {
              "color": "white"
             }
            },
            "header": {
             "fill": {
              "color": "#C8D4E3"
             },
             "line": {
              "color": "white"
             }
            },
            "type": "table"
           }
          ]
         },
         "layout": {
          "annotationdefaults": {
           "arrowcolor": "#2a3f5f",
           "arrowhead": 0,
           "arrowwidth": 1
          },
          "autotypenumbers": "strict",
          "coloraxis": {
           "colorbar": {
            "outlinewidth": 0,
            "ticks": ""
           }
          },
          "colorscale": {
           "diverging": [
            [
             0,
             "#8e0152"
            ],
            [
             0.1,
             "#c51b7d"
            ],
            [
             0.2,
             "#de77ae"
            ],
            [
             0.3,
             "#f1b6da"
            ],
            [
             0.4,
             "#fde0ef"
            ],
            [
             0.5,
             "#f7f7f7"
            ],
            [
             0.6,
             "#e6f5d0"
            ],
            [
             0.7,
             "#b8e186"
            ],
            [
             0.8,
             "#7fbc41"
            ],
            [
             0.9,
             "#4d9221"
            ],
            [
             1,
             "#276419"
            ]
           ],
           "sequential": [
            [
             0,
             "#0d0887"
            ],
            [
             0.1111111111111111,
             "#46039f"
            ],
            [
             0.2222222222222222,
             "#7201a8"
            ],
            [
             0.3333333333333333,
             "#9c179e"
            ],
            [
             0.4444444444444444,
             "#bd3786"
            ],
            [
             0.5555555555555556,
             "#d8576b"
            ],
            [
             0.6666666666666666,
             "#ed7953"
            ],
            [
             0.7777777777777778,
             "#fb9f3a"
            ],
            [
             0.8888888888888888,
             "#fdca26"
            ],
            [
             1,
             "#f0f921"
            ]
           ],
           "sequentialminus": [
            [
             0,
             "#0d0887"
            ],
            [
             0.1111111111111111,
             "#46039f"
            ],
            [
             0.2222222222222222,
             "#7201a8"
            ],
            [
             0.3333333333333333,
             "#9c179e"
            ],
            [
             0.4444444444444444,
             "#bd3786"
            ],
            [
             0.5555555555555556,
             "#d8576b"
            ],
            [
             0.6666666666666666,
             "#ed7953"
            ],
            [
             0.7777777777777778,
             "#fb9f3a"
            ],
            [
             0.8888888888888888,
             "#fdca26"
            ],
            [
             1,
             "#f0f921"
            ]
           ]
          },
          "colorway": [
           "#636efa",
           "#EF553B",
           "#00cc96",
           "#ab63fa",
           "#FFA15A",
           "#19d3f3",
           "#FF6692",
           "#B6E880",
           "#FF97FF",
           "#FECB52"
          ],
          "font": {
           "color": "#2a3f5f"
          },
          "geo": {
           "bgcolor": "white",
           "lakecolor": "white",
           "landcolor": "#E5ECF6",
           "showlakes": true,
           "showland": true,
           "subunitcolor": "white"
          },
          "hoverlabel": {
           "align": "left"
          },
          "hovermode": "closest",
          "mapbox": {
           "style": "light"
          },
          "paper_bgcolor": "white",
          "plot_bgcolor": "#E5ECF6",
          "polar": {
           "angularaxis": {
            "gridcolor": "white",
            "linecolor": "white",
            "ticks": ""
           },
           "bgcolor": "#E5ECF6",
           "radialaxis": {
            "gridcolor": "white",
            "linecolor": "white",
            "ticks": ""
           }
          },
          "scene": {
           "xaxis": {
            "backgroundcolor": "#E5ECF6",
            "gridcolor": "white",
            "gridwidth": 2,
            "linecolor": "white",
            "showbackground": true,
            "ticks": "",
            "zerolinecolor": "white"
           },
           "yaxis": {
            "backgroundcolor": "#E5ECF6",
            "gridcolor": "white",
            "gridwidth": 2,
            "linecolor": "white",
            "showbackground": true,
            "ticks": "",
            "zerolinecolor": "white"
           },
           "zaxis": {
            "backgroundcolor": "#E5ECF6",
            "gridcolor": "white",
            "gridwidth": 2,
            "linecolor": "white",
            "showbackground": true,
            "ticks": "",
            "zerolinecolor": "white"
           }
          },
          "shapedefaults": {
           "line": {
            "color": "#2a3f5f"
           }
          },
          "ternary": {
           "aaxis": {
            "gridcolor": "white",
            "linecolor": "white",
            "ticks": ""
           },
           "baxis": {
            "gridcolor": "white",
            "linecolor": "white",
            "ticks": ""
           },
           "bgcolor": "#E5ECF6",
           "caxis": {
            "gridcolor": "white",
            "linecolor": "white",
            "ticks": ""
           }
          },
          "title": {
           "x": 0.05
          },
          "xaxis": {
           "automargin": true,
           "gridcolor": "white",
           "linecolor": "white",
           "ticks": "",
           "title": {
            "standoff": 15
           },
           "zerolinecolor": "white",
           "zerolinewidth": 2
          },
          "yaxis": {
           "automargin": true,
           "gridcolor": "white",
           "linecolor": "white",
           "ticks": "",
           "title": {
            "standoff": 15
           },
           "zerolinecolor": "white",
           "zerolinewidth": 2
          }
         }
        }
       }
      },
      "text/html": [
       "<div>                            <div id=\"1c8b6fed-244b-482f-a7fc-f816e22386c2\" class=\"plotly-graph-div\" style=\"height:525px; width:100%;\"></div>            <script type=\"text/javascript\">                require([\"plotly\"], function(Plotly) {                    window.PLOTLYENV=window.PLOTLYENV || {};                                    if (document.getElementById(\"1c8b6fed-244b-482f-a7fc-f816e22386c2\")) {                    Plotly.newPlot(                        \"1c8b6fed-244b-482f-a7fc-f816e22386c2\",                        [{\"fill\":\"toself\",\"fillcolor\":\"rgba(255, 87, 51, 0.75)\",\"legendgroup\":\"2010s\",\"line\":{\"color\":\"rgba(255, 87, 51, 0.2)\"},\"name\":\"2010s\",\"r\":[0.5601455690553423,0.44630232362083394,0.2465229308942044,0.6528993964935506],\"showlegend\":true,\"theta\":[\"Hispanic\",\"Black\",\"Asian\",\"White\"],\"type\":\"scatterpolar\",\"subplot\":\"polar\"},{\"fill\":\"toself\",\"fillcolor\":\"rgba(207, 159, 255, 0.5)\",\"legendgroup\":\"2020s\",\"line\":{\"color\":\"rgba(207, 159, 255, 0.5)\"},\"name\":\"2020s\",\"r\":[0.5767649859986836,0.41152790279928003,0.31810302238607585,0.6299185687788607],\"showlegend\":true,\"theta\":[\"Hispanic\",\"Black\",\"Asian\",\"White\"],\"type\":\"scatterpolar\",\"subplot\":\"polar\"},{\"fill\":\"toself\",\"fillcolor\":\"rgba(255, 87, 51, 0.75)\",\"legendgroup\":\"2010s\",\"line\":{\"color\":\"rgba(255, 87, 51, 0.2)\"},\"name\":\"2010s\",\"r\":[0.44664115979728664,0.22725104689507786,0.1965775784245218,0.8427490087331914],\"showlegend\":false,\"theta\":[\"Hispanic\",\"Black\",\"Asian\",\"White\"],\"type\":\"scatterpolar\",\"subplot\":\"polar3\"},{\"fill\":\"toself\",\"fillcolor\":\"rgba(207, 159, 255, 0.5)\",\"legendgroup\":\"2020s\",\"line\":{\"color\":\"rgba(207, 159, 255, 0.5)\"},\"name\":\"2020s\",\"r\":[0.42933620402844563,0.2128255305842577,0.23418571049459405,0.84589170136733],\"showlegend\":false,\"theta\":[\"Hispanic\",\"Black\",\"Asian\",\"White\"],\"type\":\"scatterpolar\",\"subplot\":\"polar3\"},{\"fill\":\"toself\",\"fillcolor\":\"rgba(255, 87, 51, 0.75)\",\"legendgroup\":\"2010s\",\"line\":{\"color\":\"rgba(255, 87, 51, 0.2)\"},\"name\":\"2010s\",\"r\":[0.8570059020270426,0.4816614685002266,0.05471494885097788,0.17478383227648703],\"showlegend\":false,\"theta\":[\"Hispanic\",\"Black\",\"Asian\",\"White\"],\"type\":\"scatterpolar\",\"subplot\":\"polar2\"},{\"fill\":\"toself\",\"fillcolor\":\"rgba(207, 159, 255, 0.5)\",\"legendgroup\":\"2020s\",\"line\":{\"color\":\"rgba(207, 159, 255, 0.5)\"},\"name\":\"2020s\",\"r\":[0.8757768576709574,0.45543897695144825,0.07359035013004948,0.14203765067452634],\"showlegend\":false,\"theta\":[\"Hispanic\",\"Black\",\"Asian\",\"White\"],\"type\":\"scatterpolar\",\"subplot\":\"polar2\"},{\"fill\":\"toself\",\"fillcolor\":\"rgba(255, 87, 51, 0.75)\",\"legendgroup\":\"2010s\",\"line\":{\"color\":\"rgba(255, 87, 51, 0.2)\"},\"name\":\"2010s\",\"r\":[0.3751060454491353,0.603956370458222,0.19661275375366596,0.6751855910131985],\"showlegend\":false,\"theta\":[\"Hispanic\",\"Black\",\"Asian\",\"White\"],\"type\":\"scatterpolar\",\"subplot\":\"polar4\"},{\"fill\":\"toself\",\"fillcolor\":\"rgba(207, 159, 255, 0.5)\",\"legendgroup\":\"2020s\",\"line\":{\"color\":\"rgba(207, 159, 255, 0.5)\"},\"name\":\"2020s\",\"r\":[0.37719675932284336,0.5329688406293283,0.27081422243397224,0.707337597333874],\"showlegend\":false,\"theta\":[\"Hispanic\",\"Black\",\"Asian\",\"White\"],\"type\":\"scatterpolar\",\"subplot\":\"polar4\"},{\"fill\":\"toself\",\"fillcolor\":\"rgba(255, 87, 51, 0.75)\",\"legendgroup\":\"2010s\",\"line\":{\"color\":\"rgba(255, 87, 51, 0.2)\"},\"name\":\"2010s\",\"r\":[0.5668874686678694,0.3656537319490099,0.4695204472469454,0.5696371615301493],\"showlegend\":false,\"theta\":[\"Hispanic\",\"Black\",\"Asian\",\"White\"],\"type\":\"scatterpolar\",\"subplot\":\"polar6\"},{\"fill\":\"toself\",\"fillcolor\":\"rgba(207, 159, 255, 0.5)\",\"legendgroup\":\"2020s\",\"line\":{\"color\":\"rgba(207, 159, 255, 0.5)\"},\"name\":\"2020s\",\"r\":[0.5803362102528494,0.3313948893335297,0.5705362192678516,0.47736331331232823],\"showlegend\":false,\"theta\":[\"Hispanic\",\"Black\",\"Asian\",\"White\"],\"type\":\"scatterpolar\",\"subplot\":\"polar6\"},{\"fill\":\"toself\",\"fillcolor\":\"rgba(255, 87, 51, 0.75)\",\"legendgroup\":\"2010s\",\"line\":{\"color\":\"rgba(255, 87, 51, 0.2)\"},\"name\":\"2010s\",\"r\":[0.2565133481982556,0.1402435009896152,0.10981041125260484,0.9499864926444114],\"showlegend\":false,\"theta\":[\"Hispanic\",\"Black\",\"Asian\",\"White\"],\"type\":\"scatterpolar\",\"subplot\":\"polar5\"},{\"fill\":\"toself\",\"fillcolor\":\"rgba(207, 159, 255, 0.5)\",\"legendgroup\":\"2020s\",\"line\":{\"color\":\"rgba(207, 159, 255, 0.5)\"},\"name\":\"2020s\",\"r\":[0.319112965404353,0.15414248901312783,0.1933667910107462,0.9148859450914547],\"showlegend\":false,\"theta\":[\"Hispanic\",\"Black\",\"Asian\",\"White\"],\"type\":\"scatterpolar\",\"subplot\":\"polar5\"}],                        {\"template\":{\"data\":{\"bar\":[{\"error_x\":{\"color\":\"#2a3f5f\"},\"error_y\":{\"color\":\"#2a3f5f\"},\"marker\":{\"line\":{\"color\":\"#E5ECF6\",\"width\":0.5},\"pattern\":{\"fillmode\":\"overlay\",\"size\":10,\"solidity\":0.2}},\"type\":\"bar\"}],\"barpolar\":[{\"marker\":{\"line\":{\"color\":\"#E5ECF6\",\"width\":0.5},\"pattern\":{\"fillmode\":\"overlay\",\"size\":10,\"solidity\":0.2}},\"type\":\"barpolar\"}],\"carpet\":[{\"aaxis\":{\"endlinecolor\":\"#2a3f5f\",\"gridcolor\":\"white\",\"linecolor\":\"white\",\"minorgridcolor\":\"white\",\"startlinecolor\":\"#2a3f5f\"},\"baxis\":{\"endlinecolor\":\"#2a3f5f\",\"gridcolor\":\"white\",\"linecolor\":\"white\",\"minorgridcolor\":\"white\",\"startlinecolor\":\"#2a3f5f\"},\"type\":\"carpet\"}],\"choropleth\":[{\"colorbar\":{\"outlinewidth\":0,\"ticks\":\"\"},\"type\":\"choropleth\"}],\"contour\":[{\"colorbar\":{\"outlinewidth\":0,\"ticks\":\"\"},\"colorscale\":[[0.0,\"#0d0887\"],[0.1111111111111111,\"#46039f\"],[0.2222222222222222,\"#7201a8\"],[0.3333333333333333,\"#9c179e\"],[0.4444444444444444,\"#bd3786\"],[0.5555555555555556,\"#d8576b\"],[0.6666666666666666,\"#ed7953\"],[0.7777777777777778,\"#fb9f3a\"],[0.8888888888888888,\"#fdca26\"],[1.0,\"#f0f921\"]],\"type\":\"contour\"}],\"contourcarpet\":[{\"colorbar\":{\"outlinewidth\":0,\"ticks\":\"\"},\"type\":\"contourcarpet\"}],\"heatmap\":[{\"colorbar\":{\"outlinewidth\":0,\"ticks\":\"\"},\"colorscale\":[[0.0,\"#0d0887\"],[0.1111111111111111,\"#46039f\"],[0.2222222222222222,\"#7201a8\"],[0.3333333333333333,\"#9c179e\"],[0.4444444444444444,\"#bd3786\"],[0.5555555555555556,\"#d8576b\"],[0.6666666666666666,\"#ed7953\"],[0.7777777777777778,\"#fb9f3a\"],[0.8888888888888888,\"#fdca26\"],[1.0,\"#f0f921\"]],\"type\":\"heatmap\"}],\"heatmapgl\":[{\"colorbar\":{\"outlinewidth\":0,\"ticks\":\"\"},\"colorscale\":[[0.0,\"#0d0887\"],[0.1111111111111111,\"#46039f\"],[0.2222222222222222,\"#7201a8\"],[0.3333333333333333,\"#9c179e\"],[0.4444444444444444,\"#bd3786\"],[0.5555555555555556,\"#d8576b\"],[0.6666666666666666,\"#ed7953\"],[0.7777777777777778,\"#fb9f3a\"],[0.8888888888888888,\"#fdca26\"],[1.0,\"#f0f921\"]],\"type\":\"heatmapgl\"}],\"histogram\":[{\"marker\":{\"pattern\":{\"fillmode\":\"overlay\",\"size\":10,\"solidity\":0.2}},\"type\":\"histogram\"}],\"histogram2d\":[{\"colorbar\":{\"outlinewidth\":0,\"ticks\":\"\"},\"colorscale\":[[0.0,\"#0d0887\"],[0.1111111111111111,\"#46039f\"],[0.2222222222222222,\"#7201a8\"],[0.3333333333333333,\"#9c179e\"],[0.4444444444444444,\"#bd3786\"],[0.5555555555555556,\"#d8576b\"],[0.6666666666666666,\"#ed7953\"],[0.7777777777777778,\"#fb9f3a\"],[0.8888888888888888,\"#fdca26\"],[1.0,\"#f0f921\"]],\"type\":\"histogram2d\"}],\"histogram2dcontour\":[{\"colorbar\":{\"outlinewidth\":0,\"ticks\":\"\"},\"colorscale\":[[0.0,\"#0d0887\"],[0.1111111111111111,\"#46039f\"],[0.2222222222222222,\"#7201a8\"],[0.3333333333333333,\"#9c179e\"],[0.4444444444444444,\"#bd3786\"],[0.5555555555555556,\"#d8576b\"],[0.6666666666666666,\"#ed7953\"],[0.7777777777777778,\"#fb9f3a\"],[0.8888888888888888,\"#fdca26\"],[1.0,\"#f0f921\"]],\"type\":\"histogram2dcontour\"}],\"mesh3d\":[{\"colorbar\":{\"outlinewidth\":0,\"ticks\":\"\"},\"type\":\"mesh3d\"}],\"parcoords\":[{\"line\":{\"colorbar\":{\"outlinewidth\":0,\"ticks\":\"\"}},\"type\":\"parcoords\"}],\"pie\":[{\"automargin\":true,\"type\":\"pie\"}],\"scatter\":[{\"marker\":{\"colorbar\":{\"outlinewidth\":0,\"ticks\":\"\"}},\"type\":\"scatter\"}],\"scatter3d\":[{\"line\":{\"colorbar\":{\"outlinewidth\":0,\"ticks\":\"\"}},\"marker\":{\"colorbar\":{\"outlinewidth\":0,\"ticks\":\"\"}},\"type\":\"scatter3d\"}],\"scattercarpet\":[{\"marker\":{\"colorbar\":{\"outlinewidth\":0,\"ticks\":\"\"}},\"type\":\"scattercarpet\"}],\"scattergeo\":[{\"marker\":{\"colorbar\":{\"outlinewidth\":0,\"ticks\":\"\"}},\"type\":\"scattergeo\"}],\"scattergl\":[{\"marker\":{\"colorbar\":{\"outlinewidth\":0,\"ticks\":\"\"}},\"type\":\"scattergl\"}],\"scattermapbox\":[{\"marker\":{\"colorbar\":{\"outlinewidth\":0,\"ticks\":\"\"}},\"type\":\"scattermapbox\"}],\"scatterpolar\":[{\"marker\":{\"colorbar\":{\"outlinewidth\":0,\"ticks\":\"\"}},\"type\":\"scatterpolar\"}],\"scatterpolargl\":[{\"marker\":{\"colorbar\":{\"outlinewidth\":0,\"ticks\":\"\"}},\"type\":\"scatterpolargl\"}],\"scatterternary\":[{\"marker\":{\"colorbar\":{\"outlinewidth\":0,\"ticks\":\"\"}},\"type\":\"scatterternary\"}],\"surface\":[{\"colorbar\":{\"outlinewidth\":0,\"ticks\":\"\"},\"colorscale\":[[0.0,\"#0d0887\"],[0.1111111111111111,\"#46039f\"],[0.2222222222222222,\"#7201a8\"],[0.3333333333333333,\"#9c179e\"],[0.4444444444444444,\"#bd3786\"],[0.5555555555555556,\"#d8576b\"],[0.6666666666666666,\"#ed7953\"],[0.7777777777777778,\"#fb9f3a\"],[0.8888888888888888,\"#fdca26\"],[1.0,\"#f0f921\"]],\"type\":\"surface\"}],\"table\":[{\"cells\":{\"fill\":{\"color\":\"#EBF0F8\"},\"line\":{\"color\":\"white\"}},\"header\":{\"fill\":{\"color\":\"#C8D4E3\"},\"line\":{\"color\":\"white\"}},\"type\":\"table\"}]},\"layout\":{\"annotationdefaults\":{\"arrowcolor\":\"#2a3f5f\",\"arrowhead\":0,\"arrowwidth\":1},\"autotypenumbers\":\"strict\",\"coloraxis\":{\"colorbar\":{\"outlinewidth\":0,\"ticks\":\"\"}},\"colorscale\":{\"diverging\":[[0,\"#8e0152\"],[0.1,\"#c51b7d\"],[0.2,\"#de77ae\"],[0.3,\"#f1b6da\"],[0.4,\"#fde0ef\"],[0.5,\"#f7f7f7\"],[0.6,\"#e6f5d0\"],[0.7,\"#b8e186\"],[0.8,\"#7fbc41\"],[0.9,\"#4d9221\"],[1,\"#276419\"]],\"sequential\":[[0.0,\"#0d0887\"],[0.1111111111111111,\"#46039f\"],[0.2222222222222222,\"#7201a8\"],[0.3333333333333333,\"#9c179e\"],[0.4444444444444444,\"#bd3786\"],[0.5555555555555556,\"#d8576b\"],[0.6666666666666666,\"#ed7953\"],[0.7777777777777778,\"#fb9f3a\"],[0.8888888888888888,\"#fdca26\"],[1.0,\"#f0f921\"]],\"sequentialminus\":[[0.0,\"#0d0887\"],[0.1111111111111111,\"#46039f\"],[0.2222222222222222,\"#7201a8\"],[0.3333333333333333,\"#9c179e\"],[0.4444444444444444,\"#bd3786\"],[0.5555555555555556,\"#d8576b\"],[0.6666666666666666,\"#ed7953\"],[0.7777777777777778,\"#fb9f3a\"],[0.8888888888888888,\"#fdca26\"],[1.0,\"#f0f921\"]]},\"colorway\":[\"#636efa\",\"#EF553B\",\"#00cc96\",\"#ab63fa\",\"#FFA15A\",\"#19d3f3\",\"#FF6692\",\"#B6E880\",\"#FF97FF\",\"#FECB52\"],\"font\":{\"color\":\"#2a3f5f\"},\"geo\":{\"bgcolor\":\"white\",\"lakecolor\":\"white\",\"landcolor\":\"#E5ECF6\",\"showlakes\":true,\"showland\":true,\"subunitcolor\":\"white\"},\"hoverlabel\":{\"align\":\"left\"},\"hovermode\":\"closest\",\"mapbox\":{\"style\":\"light\"},\"paper_bgcolor\":\"white\",\"plot_bgcolor\":\"#E5ECF6\",\"polar\":{\"angularaxis\":{\"gridcolor\":\"white\",\"linecolor\":\"white\",\"ticks\":\"\"},\"bgcolor\":\"#E5ECF6\",\"radialaxis\":{\"gridcolor\":\"white\",\"linecolor\":\"white\",\"ticks\":\"\"}},\"scene\":{\"xaxis\":{\"backgroundcolor\":\"#E5ECF6\",\"gridcolor\":\"white\",\"gridwidth\":2,\"linecolor\":\"white\",\"showbackground\":true,\"ticks\":\"\",\"zerolinecolor\":\"white\"},\"yaxis\":{\"backgroundcolor\":\"#E5ECF6\",\"gridcolor\":\"white\",\"gridwidth\":2,\"linecolor\":\"white\",\"showbackground\":true,\"ticks\":\"\",\"zerolinecolor\":\"white\"},\"zaxis\":{\"backgroundcolor\":\"#E5ECF6\",\"gridcolor\":\"white\",\"gridwidth\":2,\"linecolor\":\"white\",\"showbackground\":true,\"ticks\":\"\",\"zerolinecolor\":\"white\"}},\"shapedefaults\":{\"line\":{\"color\":\"#2a3f5f\"}},\"ternary\":{\"aaxis\":{\"gridcolor\":\"white\",\"linecolor\":\"white\",\"ticks\":\"\"},\"baxis\":{\"gridcolor\":\"white\",\"linecolor\":\"white\",\"ticks\":\"\"},\"bgcolor\":\"#E5ECF6\",\"caxis\":{\"gridcolor\":\"white\",\"linecolor\":\"white\",\"ticks\":\"\"}},\"title\":{\"x\":0.05},\"xaxis\":{\"automargin\":true,\"gridcolor\":\"white\",\"linecolor\":\"white\",\"ticks\":\"\",\"title\":{\"standoff\":15},\"zerolinecolor\":\"white\",\"zerolinewidth\":2},\"yaxis\":{\"automargin\":true,\"gridcolor\":\"white\",\"linecolor\":\"white\",\"ticks\":\"\",\"title\":{\"standoff\":15},\"zerolinecolor\":\"white\",\"zerolinewidth\":2}}},\"polar\":{\"domain\":{\"x\":[0.0,0.2888888888888889],\"y\":[0.625,1.0]},\"radialaxis\":{\"visible\":true,\"range\":[0,1]}},\"polar2\":{\"domain\":{\"x\":[0.35555555555555557,0.6444444444444445],\"y\":[0.625,1.0]}},\"polar3\":{\"domain\":{\"x\":[0.7111111111111111,1.0],\"y\":[0.625,1.0]}},\"polar4\":{\"domain\":{\"x\":[0.0,0.2888888888888889],\"y\":[0.0,0.375]}},\"polar5\":{\"domain\":{\"x\":[0.35555555555555557,0.6444444444444445],\"y\":[0.0,0.375]}},\"polar6\":{\"domain\":{\"x\":[0.7111111111111111,1.0],\"y\":[0.0,0.375]}},\"annotations\":[{\"font\":{\"size\":16},\"showarrow\":false,\"text\":\"New York City\",\"x\":0.14444444444444446,\"xanchor\":\"center\",\"xref\":\"paper\",\"y\":1.05,\"yanchor\":\"bottom\",\"yref\":\"paper\"},{\"font\":{\"size\":16},\"showarrow\":false,\"text\":\"Manhattan\",\"x\":0.5,\"xanchor\":\"center\",\"xref\":\"paper\",\"y\":1.05,\"yanchor\":\"bottom\",\"yref\":\"paper\"},{\"font\":{\"size\":16},\"showarrow\":false,\"text\":\"Bronx\",\"x\":0.8555555555555556,\"xanchor\":\"center\",\"xref\":\"paper\",\"y\":1.05,\"yanchor\":\"bottom\",\"yref\":\"paper\"},{\"font\":{\"size\":16},\"showarrow\":false,\"text\":\"Brooklyn\",\"x\":0.14444444444444446,\"xanchor\":\"center\",\"xref\":\"paper\",\"y\":0.45,\"yanchor\":\"bottom\",\"yref\":\"paper\"},{\"font\":{\"size\":16},\"showarrow\":false,\"text\":\"Queens\",\"x\":0.5,\"xanchor\":\"center\",\"xref\":\"paper\",\"y\":0.45,\"yanchor\":\"bottom\",\"yref\":\"paper\"},{\"font\":{\"size\":16},\"showarrow\":false,\"text\":\"Staten Island\",\"x\":0.8555555555555556,\"xanchor\":\"center\",\"xref\":\"paper\",\"y\":0.45,\"yanchor\":\"bottom\",\"yref\":\"paper\"}]},                        {\"responsive\": true}                    ).then(function(){\n",
       "                            \n",
       "var gd = document.getElementById('1c8b6fed-244b-482f-a7fc-f816e22386c2');\n",
       "var x = new MutationObserver(function (mutations, observer) {{\n",
       "        var display = window.getComputedStyle(gd).display;\n",
       "        if (!display || display === 'none') {{\n",
       "            console.log([gd, 'removed!']);\n",
       "            Plotly.purge(gd);\n",
       "            observer.disconnect();\n",
       "        }}\n",
       "}});\n",
       "\n",
       "// Listen for the removal of the full notebook cells\n",
       "var notebookContainer = gd.closest('#notebook-container');\n",
       "if (notebookContainer) {{\n",
       "    x.observe(notebookContainer, {childList: true});\n",
       "}}\n",
       "\n",
       "// Listen for the clearing of the current output cell\n",
       "var outputEl = gd.closest('.output');\n",
       "if (outputEl) {{\n",
       "    x.observe(outputEl, {childList: true});\n",
       "}}\n",
       "\n",
       "                        })                };                });            </script>        </div>"
      ]
     },
     "metadata": {},
     "output_type": "display_data"
    }
   ],
   "source": [
    "import plotly.graph_objects as go\n",
    "from plotly.subplots import make_subplots\n",
    "\n",
    "fig = make_subplots(rows=2, cols=3, \n",
    "                    start_cell=\"top-left\",\n",
    "                    specs=[[{'type': 'polar'}] * 3] * 2, \n",
    "                    shared_xaxes = True,\n",
    "                    subplot_titles = ['New York City', 'Manhattan', 'Bronx', 'Brooklyn', 'Queens', 'Staten Island']\n",
    "                   )\n",
    "\n",
    "row = 1\n",
    "col = 1\n",
    "first_plot = True\n",
    "for borough in ['New York City', 'Manhattan', 'Bronx', 'Brooklyn', 'Queens', 'Staten Island']:\n",
    "    fig.add_trace(go.Scatterpolar(\n",
    "                r=filtered_census_10.loc[borough][:],\n",
    "                theta=list(filtered_census_10.columns),\n",
    "                fill='toself',\n",
    "                name='2010s',\n",
    "                legendgroup=\"2010s\",\n",
    "                showlegend=first_plot,\n",
    "                fillcolor='rgba(255, 87, 51, 0.75)',\n",
    "                line={'color': 'rgba(255, 87, 51, 0.2)'}),\n",
    "            row=row, col=col)\n",
    "    fig.add_trace(go.Scatterpolar(\n",
    "                r=filtered_census_20.loc[borough][:],\n",
    "                theta=list(filtered_census_20.columns),\n",
    "                fill='toself',\n",
    "                name='2020s', \n",
    "                legendgroup=\"2020s\",\n",
    "                showlegend=first_plot,\n",
    "                fillcolor='rgba(207, 159, 255, 0.5)',\n",
    "                line={'color': 'rgba(207, 159, 255, 0.5)'}), \n",
    "            row=row, col=col)\n",
    "    \n",
    "    fig.update_annotations(y=(1.05 if row == 1 else 0.45), selector={'text':borough})\n",
    "    \n",
    "    col = (col + 1) % 3 + 1\n",
    "    row = (row + 1) if col == 1 else row\n",
    "    first_plot = False\n",
    "\n",
    "fig.update_layout(\n",
    "  polar=dict(\n",
    "    radialaxis=dict(\n",
    "      visible=True,\n",
    "      range=[0, 1]\n",
    "    )),\n",
    ")\n",
    "\n",
    "fig.show()\n"
   ]
  },
  {
   "cell_type": "code",
   "execution_count": null,
   "metadata": {},
   "outputs": [],
   "source": [
    "plot_df = pd.DataFrame(dict(\n",
    "    r=filtered_census_10.loc['Manhattan'][:],\n",
    "    theta=list(filtered_census_10.columns)))\n",
    "fig = px.line_polar(plot_df, r='r', theta='theta', line_close=True)\n",
    "fig.update_traces(fill='toself')\n",
    "fig.show()"
   ]
  },
  {
   "cell_type": "code",
   "execution_count": null,
   "metadata": {},
   "outputs": [],
   "source": []
  }
 ],
 "metadata": {
  "colab": {
   "provenance": []
  },
  "kernelspec": {
   "display_name": "Python 3 (ipykernel)",
   "language": "python",
   "name": "python3"
  },
  "language_info": {
   "codemirror_mode": {
    "name": "ipython",
    "version": 3
   },
   "file_extension": ".py",
   "mimetype": "text/x-python",
   "name": "python",
   "nbconvert_exporter": "python",
   "pygments_lexer": "ipython3",
   "version": "3.9.12"
  }
 },
 "nbformat": 4,
 "nbformat_minor": 1
}
