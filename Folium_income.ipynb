{
 "cells": [
  {
   "cell_type": "code",
   "execution_count": 62,
   "metadata": {},
   "outputs": [],
   "source": [
    "import folium\n",
    "import pandas as pd\n",
    "import numpy as np\n",
    "import json\n",
    "import statistics\n",
    "import matplotlib.pyplot as plt\n"
   ]
  },
  {
   "cell_type": "code",
   "execution_count": 107,
   "metadata": {},
   "outputs": [
    {
     "name": "stdout",
     "output_type": "stream",
     "text": [
      "Index(['BOROUGH\\n', 'NEIGHBORHOOD\\n', 'BUILDING CLASS CATEGORY\\n',\n",
      "       'TAX CLASS AT PRESENT\\n', 'BLOCK\\n', 'LOT\\n', 'EASE-MENT\\n',\n",
      "       'BUILDING CLASS AT PRESENT\\n', 'ADDRESS\\n', 'APARTMENT NUMBER\\n',\n",
      "       'ZIP CODE\\n', 'RESIDENTIAL UNITS\\n', 'COMMERCIAL UNITS\\n',\n",
      "       'TOTAL UNITS\\n', 'LAND SQUARE FEET\\n', 'GROSS SQUARE FEET\\n',\n",
      "       'YEAR BUILT\\n', 'TAX CLASS AT TIME OF SALE\\n',\n",
      "       'BUILDING CLASS AT TIME OF SALE\\n', 'SALE PRICE\\n', 'SALE DATE\\n'],\n",
      "      dtype='object')\n"
     ]
    }
   ],
   "source": [
    "# Read population data from Excel file\n",
    "house_df_queens = pd.read_excel('D:/PyCharm/pythonProject/143/Project/Housing_Price/09_15/2015_queens.xls',skiprows=4)\n",
    "house_df_statenisland = pd.read_excel('D:/PyCharm/pythonProject/143/Project/Housing_Price/09_15/2015_statenisland.xls',skiprows=4)\n",
    "house_df_manhattan = pd.read_excel('D:/PyCharm/pythonProject/143/Project/Housing_Price/09_15/2015_manhattan.xls',skiprows=4)\n",
    "house_df_brooklyn = pd.read_excel('D:/PyCharm/pythonProject/143/Project/Housing_Price/09_15/2015_brooklyn.xls',skiprows=4)\n",
    "house_df_bronx = pd.read_excel('D:/PyCharm/pythonProject/143/Project/Housing_Price/09_15/2015_bronx.xls',skiprows=4)\n",
    "\n",
    "print(house_df_bronx.columns)\n"
   ]
  },
  {
   "cell_type": "code",
   "execution_count": 115,
   "metadata": {},
   "outputs": [],
   "source": [
    "# Convert population data to a dictionary\n",
    "price_df_queens = house_df_queens['SALE PRICE\\n'].tolist()\n",
    "# Remove all occurrences of 0 from the list, and delete too-small values\n",
    "price_df_queens = [val for val in price_df_queens if 1000 <= val <= 5000000]\n",
    "\n",
    "# Convert population data to a dictionary\n",
    "price_df_statenisland = house_df_statenisland['SALE PRICE\\n'].tolist()\n",
    "# Remove all occurrences of 0 from the list, and delete too-small values\n",
    "price_df_statenisland = [val for val in price_df_statenisland if 1000 <= val <= 5000000]\n",
    "\n",
    "# Convert population data to a dictionary\n",
    "price_df_manhattan = house_df_manhattan['SALE PRICE\\n'].tolist()\n",
    "# Remove all occurrences of 0 from the list, and delete too-small values\n",
    "price_df_manhattan = [val for val in price_df_manhattan if 1000 <= val <= 10000000]\n",
    "\n",
    "# Convert population data to a dictionary\n",
    "price_df_brooklyn = house_df_brooklyn['SALE PRICE\\n'].tolist()\n",
    "# Remove all occurrences of 0 from the list, and delete too-small values\n",
    "price_df_brooklyn = [val for val in price_df_brooklyn if 1000 <= val <= 5000000]\n",
    "\n",
    "\n",
    "# Convert population data to a dictionary\n",
    "price_df_bronx = house_df_bronx['SALE PRICE\\n'].tolist()\n",
    "# Remove all occurrences of 0 from the list, and delete too-small values\n",
    "price_df_bronx = [val for val in price_df_bronx if 1000 <= val <= 6000000]\n",
    "\n",
    "\n"
   ]
  },
  {
   "cell_type": "code",
   "execution_count": 91,
   "metadata": {},
   "outputs": [
    {
     "name": "stdout",
     "output_type": "stream",
     "text": [
      "Max: 49124685\n",
      "Min: 1000\n",
      "Mean: 664131\n",
      "Lower Quantile (25th percentile): 252000.0\n",
      "Upper Quantile (75th percentile): 687500.0\n"
     ]
    }
   ],
   "source": [
    "# Find max, min, mean, upper/lower quantile of housing price\n",
    "max_queens = max(price_df_queens)\n",
    "min_queens = min(price_df_queens)\n",
    "mean_queens = int(statistics.mean(price_df_queens))\n",
    "lower_quantile_queens = statistics.quantiles(price_df_queens, n=4)[0] # 25th percentile\n",
    "upper_quantile_queens = statistics.quantiles(price_df_queens, n=4)[2]  # 75th percentile\n",
    "print(\"Max:\", max_queens)\n",
    "print(\"Min:\", min_queens)\n",
    "print(\"Mean:\", mean_queens)\n",
    "print(\"Lower Quantile (25th percentile):\", lower_quantile_queens)\n",
    "print(\"Upper Quantile (75th percentile):\", upper_quantile_queens)"
   ]
  },
  {
   "cell_type": "code",
   "execution_count": 130,
   "metadata": {},
   "outputs": [
    {
     "data": {
      "image/png": "[encoded data removed]",
      "text/plain": [
       "<Figure size 432x288 with 1 Axes>"
      ]
     },
     "metadata": {
      "needs_background": "light"
     },
     "output_type": "display_data"
    }
   ],
   "source": [
    "\n",
    "data = {\n",
    "    'Staten Island': price_df_statenisland,\n",
    "    'Queens': price_df_queens,\n",
    "    'Manhattan': price_df_manhattan,\n",
    "    'Brooklyn': price_df_brooklyn,\n",
    "    'Bronx': price_df_bronx\n",
    "}\n",
    "\n",
    "# Find the maximum length among the columns and Pad the shorter columns with NaN\n",
    "max_length = max(len(values) for values in data.values())\n",
    "\n",
    "for key, values in data.items():\n",
    "    data[key] = values + [np.nan] * (max_length - len(values))\n",
    "\n",
    "\n",
    "df = pd.DataFrame(data)\n",
    "\n",
    "# Create a boxplot using Pandas\n",
    "boxplot = df.boxplot(showmeans=True, showfliers=False, grid=True, column=['Staten Island', 'Queens','Manhattan','Brooklyn','Bronx'])\n",
    "\n",
    "# Calculate means for each category\n",
    "means = df.mean()\n",
    "\n",
    "# Annotate the boxplot with mean values (display only the integer part of the mean)\n",
    "for i, col in enumerate(df.columns):\n",
    "    mean_int = int(means[col])  # Get the integer part of the mean\n",
    "    plt.text(i + 1, means[col], f' {mean_int}', ha='right', va='top', color='black', fontsize = 8)\n",
    "\n",
    "\n",
    "\n",
    "# Add labels\n",
    "plt.xlabel('Borough')\n",
    "plt.ylabel('Housing Price')\n",
    "plt.title('Housing Price of Five Borough')\n",
    "\n",
    "plt.show()"
   ]
  },
  {
   "cell_type": "code",
   "execution_count": null,
   "metadata": {},
   "outputs": [],
   "source": []
  }
 ],
 "metadata": {
  "kernelspec": {
   "display_name": "base",
   "language": "python",
   "name": "python3"
  },
  "language_info": {
   "codemirror_mode": {
    "name": "ipython",
    "version": 3
   },
   "file_extension": ".py",
   "mimetype": "text/x-python",
   "name": "python",
   "nbconvert_exporter": "python",
   "pygments_lexer": "ipython3",
   "version": "3.9.7"
  }
 },
 "nbformat": 4,
 "nbformat_minor": 2
}
